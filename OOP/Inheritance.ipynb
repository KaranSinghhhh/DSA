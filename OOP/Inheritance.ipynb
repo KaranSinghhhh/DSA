{
 "cells": [
  {
   "cell_type": "markdown",
   "metadata": {},
   "source": [
    "Inheritance\n",
    "Inheritance is a fundamental concept in object-oriented programming where a class (child) can inherit attributes and methods from another class (parent). This helps in several ways:\n",
    "\n",
    "- Reusability:\n",
    "You can use existing code without rewriting it. For example, if a BasePlayer class has common attributes like hp and methods like walk, other classes like Wizard and Archer can reuse these without duplicating code.\n",
    "\n",
    "- Facilitates Extensibility:\n",
    "You can easily add new features. For instance, you can create new classes like Knight or Healer that inherit from BasePlayer and add their own unique methods and properties, extending the functionality of the base class.\n",
    "\n",
    "- Establishes a Clear Hierarchy:\n",
    "It organizes code in a structured way. The BasePlayer class is the parent, and Wizard and Archer are its children. This hierarchy makes the relationships between classes clear, making the code easier to understand and maintain."
   ]
  },
  {
   "cell_type": "code",
   "execution_count": 9,
   "metadata": {},
   "outputs": [
    {
     "name": "stdout",
     "output_type": "stream",
     "text": [
      "I am walking\n",
      "I am walking\n",
      "Archer Shoots... 9 arrows left \n",
      "Archer Shoots... 8 arrows left \n"
     ]
    }
   ],
   "source": [
    "class BasePlayer:\n",
    "    def __init__ (self, hp):\n",
    "        self.hp = hp\n",
    "\n",
    "    def walk(self):\n",
    "        print(\"I am walking\")\n",
    "\n",
    "class Wizard(BasePlayer):\n",
    "    pass\n",
    "\n",
    "class Archer(BasePlayer):\n",
    "    def __init__(self, hp, arrows):\n",
    "        super().__init__(hp) ## Calls the __init__ method of the BasePlayer class to initialize the hp attribute\n",
    "        self.arrows = arrows\n",
    "        \n",
    "\n",
    "    def shoot(self):\n",
    "        self.arrows -= 1\n",
    "        print(f\"Archer Shoots... {self.arrows} arrows left \")\n",
    "\n",
    "wizard = Wizard(50) #wizard is an instance of the Wizard class\n",
    "wizard.walk() #since the Wizard class is inheriting BasePlayer, we can call the \"walk\" method on wizard, even though the \"walk\" method is defined in BasePlayer\n",
    "\n",
    "archer = Archer(100, 10)\n",
    "archer.walk()\n",
    "archer.shoot()\n",
    "archer.shoot()"
   ]
  },
  {
   "cell_type": "markdown",
   "metadata": {},
   "source": [
    "Or we can also do something like this:"
   ]
  },
  {
   "cell_type": "code",
   "execution_count": 10,
   "metadata": {},
   "outputs": [
    {
     "name": "stdout",
     "output_type": "stream",
     "text": [
      "I am walking\n",
      "I am walking\n",
      "Archer Shoots... 9 arrows left \n",
      "Archer Shoots... 8 arrows left \n"
     ]
    }
   ],
   "source": [
    "class BasePlayer:\n",
    "    def __init__ (self, hp, arrows):\n",
    "        self.hp = hp\n",
    "        self.arrows = arrows\n",
    "\n",
    "    def walk(self):\n",
    "        print(\"I am walking\")\n",
    "\n",
    "class Wizard(BasePlayer):\n",
    "    pass\n",
    "\n",
    "class Archer(BasePlayer):\n",
    "    def __init__(self, hp, arrows):\n",
    "        super().__init__(hp, arrows) # Calls the __init__ method of the BasePlayer class to initialize the hp and arrows attribute\n",
    "        \n",
    "    def shoot(self):\n",
    "        self.arrows -= 1\n",
    "        print(f\"Archer Shoots... {self.arrows} arrows left \")\n",
    "\n",
    "wizard = Wizard(500, 10) #wizard is an instance of the Wizard class\n",
    "wizard.walk() #since the Wizard class is inheriting BasePlayer, we can call the \"walk\" method on wizard, even though the \"walk\" method is defined in BasePlayer\n",
    "\n",
    "archer = Archer(100, 10)\n",
    "archer.walk()\n",
    "archer.shoot()\n",
    "archer.shoot()"
   ]
  }
 ],
 "metadata": {
  "kernelspec": {
   "display_name": "Python 3",
   "language": "python",
   "name": "python3"
  },
  "language_info": {
   "codemirror_mode": {
    "name": "ipython",
    "version": 3
   },
   "file_extension": ".py",
   "mimetype": "text/x-python",
   "name": "python",
   "nbconvert_exporter": "python",
   "pygments_lexer": "ipython3",
   "version": "3.11.4"
  }
 },
 "nbformat": 4,
 "nbformat_minor": 2
}
