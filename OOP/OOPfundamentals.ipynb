{
 "cells": [
  {
   "cell_type": "code",
   "execution_count": 5,
   "metadata": {},
   "outputs": [
    {
     "name": "stdout",
     "output_type": "stream",
     "text": [
      "Archer shot: 2 left\n",
      "Archer shot: 1 left\n",
      "Archer shot: 0 left\n",
      "Archer shot: 4 left\n",
      "I am static\n"
     ]
    }
   ],
   "source": [
    "class Archer:\n",
    "    def __init__(self, hp, mana, arrows): #CONSTRUCTOR, hp, mana, and arrows are paramaters\n",
    "        self.hp = hp  # ATTRIBUTE: Instance variable to store health points\n",
    "        self.mana = mana  # ATTRIBUTE: Instance variable to store mana points\n",
    "        self.arrows = arrows  # ATTRIBUTE: Instance variable to store the number of arrows\n",
    "\n",
    "\n",
    "    #A METHOD is just a function with a class\n",
    "    def shoot(self):\n",
    "        if self.arrows > 0:\n",
    "            self.arrows -= 1\n",
    "            print(\"Shot an arrow!\")\n",
    "        else:\n",
    "            print(\"No arrows left!\")\n",
    "\n",
    "# Creating an instance of the Archer class\n",
    "archer1 = Archer(100, 100, 3)\n",
    "\n",
    "# Calling the shoot method three times\n",
    "archer1.shoot()\n",
    "archer1.shoot()\n",
    "archer1.shoot()\n",
    "\n",
    "archer1 = Archer(100, 100, 3)  # Archer 1 is an INSTANCE of the Archer class\n",
    "archer1.shoot()  # First call to shoot method, decreases arrows to 2\n",
    "archer1.shoot()  # Second call to shoot method, decreases arrows to 1\n",
    "archer1.shoot()  # Third call to shoot method, decreases arrows to 0\n"
   ]
  },
  {
   "cell_type": "code",
   "execution_count": null,
   "metadata": {},
   "outputs": [],
   "source": [
    "'''\n",
    "A class method is a method that is bound to the class itself, not to any specific instance. \n",
    "It can access class-level data and can be called on the class itself or on any of its instances.\n",
    "'''\n",
    "\n",
    "#class method\n",
    "class Person:\n",
    "    population = 0  # Class attribute shared by all instances\n",
    "\n",
    "    def __init__(self, name, age):\n",
    "        self.name = name\n",
    "        self.age = age\n",
    "        Person.population += 1  # Modify class-level attribute\n",
    "\n",
    "    @classmethod\n",
    "    def get_population(cls):  # Class method\n",
    "        return cls.population\n",
    "\n",
    "# Creating instances of the Person class\n",
    "person1 = Person(\"Alice\", 30)\n",
    "person2 = Person(\"Bob\", 25)\n",
    "\n",
    "# Calling the class method on the class itself\n",
    "print(Person.get_population())  # Output: 2\n",
    "\n",
    "# Calling the class method on an instance\n",
    "print(person1.get_population())  # Output: 2\n",
    "print(person2.get_population())  # Output: 2\n",
    "\n"
   ]
  },
  {
   "cell_type": "code",
   "execution_count": null,
   "metadata": {},
   "outputs": [],
   "source": [
    "'''\n",
    "A static method is a method that does not operate on an instance or class. \n",
    "It is defined within the class's namespace for organizational purposes but does not access or modify the class or instance state.\n",
    "'''\n",
    "\n",
    "class MathOperations:\n",
    "    @staticmethod\n",
    "    def add(a, b):\n",
    "        return a + b\n",
    "\n",
    "# Calling the static method\n",
    "print(MathOperations.add(5, 3))  # Output: 8\n",
    "\n",
    "# Static method can also be called on an instance\n",
    "math_op = MathOperations()\n",
    "print(math_op.add(10, 7))  # Output: 17\n"
   ]
  }
 ],
 "metadata": {
  "kernelspec": {
   "display_name": "Python 3",
   "language": "python",
   "name": "python3"
  },
  "language_info": {
   "codemirror_mode": {
    "name": "ipython",
    "version": 3
   },
   "file_extension": ".py",
   "mimetype": "text/x-python",
   "name": "python",
   "nbconvert_exporter": "python",
   "pygments_lexer": "ipython3",
   "version": "3.11.4"
  }
 },
 "nbformat": 4,
 "nbformat_minor": 2
}
