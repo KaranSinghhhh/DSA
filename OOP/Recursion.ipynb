{
 "cells": [
  {
   "cell_type": "code",
   "execution_count": 8,
   "metadata": {},
   "outputs": [
    {
     "name": "stdout",
     "output_type": "stream",
     "text": [
      "3!\n",
      "2!\n",
      "1!\n",
      "Blastoff\n"
     ]
    }
   ],
   "source": [
    "def countdown(n):\n",
    "    if n <= 0:\n",
    "        print(\"Blastoff\") #print blastoff for basecase\n",
    "    else:\n",
    "        print(f\"{n}!\")\n",
    "        countdown(n-1)\n",
    "countdown(3)"
   ]
  },
  {
   "cell_type": "code",
   "execution_count": 11,
   "metadata": {},
   "outputs": [
    {
     "name": "stdout",
     "output_type": "stream",
     "text": [
      "hi\n",
      "hi\n",
      "hi\n",
      "hi\n",
      "hi\n",
      "None\n"
     ]
    }
   ],
   "source": [
    "def print_n(s, n):\n",
    "    if n <= 0:\n",
    "        return #exit the function for basecase\n",
    "    print(s)\n",
    "    print_n(s, n-1)\n",
    "\n",
    "print(print_n(\"hi\",5))"
   ]
  },
  {
   "cell_type": "markdown",
   "metadata": {},
   "source": []
  }
 ],
 "metadata": {
  "kernelspec": {
   "display_name": "Python 3",
   "language": "python",
   "name": "python3"
  },
  "language_info": {
   "codemirror_mode": {
    "name": "ipython",
    "version": 3
   },
   "file_extension": ".py",
   "mimetype": "text/x-python",
   "name": "python",
   "nbconvert_exporter": "python",
   "pygments_lexer": "ipython3",
   "version": "3.11.4"
  }
 },
 "nbformat": 4,
 "nbformat_minor": 2
}
