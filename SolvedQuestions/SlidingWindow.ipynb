{
 "cells": [
  {
   "cell_type": "markdown",
   "metadata": {},
   "source": [
    "Sliding Window: 2 Types:\n",
    "- Variable Length\n",
    "- Fixed Length "
   ]
  },
  {
   "cell_type": "markdown",
   "metadata": {},
   "source": [
    "Easy Section\n",
    "- Leetcode 643 - \"Maximum Average Subarray I\" (easy, array, sliding window, fixed length)\n",
    "- Leetcode 1876 - \"Substrings of size Three with Distinct characters\" (easy, string, sliding window, fixed length)\n",
    "- Leetcode 2269 - \"Find the K-Beauty of a number\" (easy, array, sliding window, fixed length)\n",
    "\n",
    "Medium Section \n",
    "- Leetcode 3 - \"Longest Substring without repeating characters\" (medium, string, sliding window, variable length)"
   ]
  },
  {
   "cell_type": "markdown",
   "metadata": {},
   "source": [
    "Leetcode 643 - \"Maximum Average Subarray I\" (easy, array, sliding window, fixed length)\n",
    "\n",
    "You are given an integer array nums consisting of n elements, and an integer k.\n",
    "Find a contiguous subarray whose length is equal to k that has the maximum average value and return this value. Any answer with a calculation error less than 10-5 will be accepted.\n",
    "\n",
    "Example 1:\n",
    "Input: nums = [1,12,-5,-6,50,3], k = 4\n",
    "Output: 12.75000\n",
    "Explanation: Maximum average is (12 - 5 - 6 + 50) / 4 = 51 / 4 = 12.75\n",
    "\n",
    "Example 2:\n",
    "Input: nums = [5], k = 1\n",
    "Output: 5.00000\n",
    " \n",
    "Constraints:\n",
    "\n",
    "n == nums.length\n",
    "1 <= k <= n <= 105\n",
    "-104 <= nums[i] <= 104\n"
   ]
  },
  {
   "cell_type": "code",
   "execution_count": 2,
   "metadata": {},
   "outputs": [
    {
     "name": "stdout",
     "output_type": "stream",
     "text": [
      "12.75\n"
     ]
    }
   ],
   "source": [
    "from typing import List\n",
    "\n",
    "class Solution:\n",
    "    def findMaxAverage(self, nums: List[int], k: int) -> float:\n",
    "        left = 0\n",
    "        right = k - 1\n",
    "\n",
    "        current_sum = sum(nums[left:right+1])\n",
    "        max_sum = current_sum\n",
    "\n",
    "        while right < len(nums) - 1:\n",
    "            right += 1\n",
    "            current_sum = current_sum + (nums[right] - nums[left])\n",
    "            left += 1\n",
    "            if current_sum > max_sum:\n",
    "                max_sum = current_sum\n",
    "            \n",
    "        return max_sum/k\n",
    "    \n",
    "sol = Solution()\n",
    "nums = [1,12,-5,-6,50,3]\n",
    "k = 4\n",
    "print(sol.findMaxAverage(nums,k))\n",
    "\n",
    "#time: O(n)\n",
    "#space: O(1)\n"
   ]
  },
  {
   "cell_type": "markdown",
   "metadata": {},
   "source": [
    "- Leetcode 1876 - \"Substrings of size Three with Distinct characters\" (easy, string, sliding window, fixed length)\n",
    "\n",
    "A string is good if there are no repeated characters. Given a string s​​​​​, return the number of good substrings of length three in s​​​​​​. Note that if there are multiple occurrences of the same substring, every occurrence should be counted. A substring is a contiguous sequence of characters in a string.\n",
    "\n",
    "Example 1:\n",
    "Input: s = \"xyzzaz\"\n",
    "Output: 1\n",
    "Explanation: There are 4 substrings of size 3: \"xyz\", \"yzz\", \"zza\", and \"zaz\". \n",
    "The only good substring of length 3 is \"xyz\".\n",
    "\n",
    "Example 2:\n",
    "Input: s = \"aababcabc\"\n",
    "Output: 4\n",
    "Explanation: There are 7 substrings of size 3: \"aab\", \"aba\", \"bab\", \"abc\", \"bca\", \"cab\", and \"abc\".\n",
    "The good substrings are \"abc\", \"bca\", \"cab\", and \"abc\".\n",
    " \n",
    "Constraints:\n",
    "\n",
    "1 <= s.length <= 100\n",
    "s​​​​​​ consists of lowercase English letters."
   ]
  },
  {
   "cell_type": "code",
   "execution_count": null,
   "metadata": {},
   "outputs": [],
   "source": [
    "class Solution:\n",
    "    def countGoodSubstrings(self, s: str) -> int:\n",
    "        left = 0\n",
    "        right = 0\n",
    "        total = 0\n",
    "\n",
    "        while right < len(s):\n",
    "            window_size = (right - left) + 1\n",
    "            if window_size == 3:\n",
    "                substring = s[left:right+1]\n",
    "                if len(set(substring)) == window_size:\n",
    "                    total += 1\n",
    "                \n",
    "                left += 1\n",
    "\n",
    "            right += 1\n",
    "\n",
    "        return total\n",
    "\n",
    "            "
   ]
  },
  {
   "cell_type": "markdown",
   "metadata": {},
   "source": [
    "The k-beauty of an integer num is defined as the number of substrings of num when it is read as a string that meet the following conditions: \n",
    "It has a length of k.\n",
    "It is a divisor of num.\n",
    "\n",
    "Given integers num and k, return the k-beauty of num.\n",
    "Note:\n",
    "Leading zeros are allowed.\n",
    "0 is not a divisor of any value.\n",
    "A substring is a contiguous sequence of characters in a string.\n",
    "\n",
    "Example 1:\n",
    "Input: num = 240, k = 2\n",
    "Output: 2\n",
    "Explanation: The following are the substrings of num of length k:\n",
    "- \"24\" from \"240\": 24 is a divisor of 240.\n",
    "- \"40\" from \"240\": 40 is a divisor of 240.\n",
    "Therefore, the k-beauty is 2.\n",
    "\n",
    "Example 2:\n",
    "Input: num = 430043, k = 2\n",
    "Output: 2\n",
    "Explanation: The following are the substrings of num of length k:\n",
    "- \"43\" from \"430043\": 43 is a divisor of 430043.\n",
    "- \"30\" from \"430043\": 30 is not a divisor of 430043.\n",
    "- \"00\" from \"430043\": 0 is not a divisor of 430043.\n",
    "- \"04\" from \"430043\": 4 is not a divisor of 430043.\n",
    "- \"43\" from \"430043\": 43 is a divisor of 430043.\n",
    "\n",
    "Therefore, the k-beauty is 2.\n",
    " \n",
    "\n",
    "Constraints:\n",
    "\n",
    "1 <= num <= 109\n",
    "1 <= k <= num.length (taking num as a string)"
   ]
  },
  {
   "cell_type": "code",
   "execution_count": null,
   "metadata": {},
   "outputs": [],
   "source": [
    "class Solution:\n",
    "    def divisorSubstrings(self, num: int, k: int) -> int:\n",
    "        left = 0 \n",
    "        right = k - 1\n",
    "        total = 0\n",
    "        str_num = str(num)\n",
    "\n",
    "        while right < len(str_num):\n",
    "            current = str_num[left:right+1:1]\n",
    "            int_current = int(current)\n",
    "\n",
    "            if int_current != 0 and num % int_current == 0:\n",
    "                total += 1\n",
    "\n",
    "            left += 1\n",
    "            right += 1\n",
    "\n",
    "        return total\n",
    "    \n",
    "#Time: O(n)\n",
    "#Space: O(1 )"
   ]
  },
  {
   "cell_type": "markdown",
   "metadata": {},
   "source": [
    "Medium Section"
   ]
  },
  {
   "cell_type": "code",
   "execution_count": null,
   "metadata": {},
   "outputs": [],
   "source": []
  },
  {
   "cell_type": "markdown",
   "metadata": {},
   "source": [
    "Leetcode 3 - \"Longest Substring without repeating characters\" (medium, string, sliding window, variable length)\n",
    "\n",
    "Given a string s, find the length of the longest substring without repeating characters.\n",
    "\n",
    "Example 1:\n",
    "Input: s = \"abcabcbb\"\n",
    "Output: 3\n",
    "Explanation: The answer is \"abc\", with the length of 3.\n",
    "\n",
    "Example 2:\n",
    "Input: s = \"bbbbb\"\n",
    "Output: 1\n",
    "Explanation: The answer is \"b\", with the length of 1.\n",
    "\n",
    "Example 3:\n",
    "Input: s = \"pwwkew\"\n",
    "Output: 3\n",
    "Explanation: The answer is \"wke\", with the length of 3.\n",
    "Notice that the answer must be a substring, \"pwke\" is a subsequence and not a substring.\n",
    " \n",
    "\n",
    "Constraints:\n",
    "\n",
    "0 <= s.length <= 5 * 104\n",
    "s consists of English letters, digits, symbols and spaces."
   ]
  },
  {
   "cell_type": "code",
   "execution_count": 1,
   "metadata": {},
   "outputs": [
    {
     "name": "stdout",
     "output_type": "stream",
     "text": [
      "3\n"
     ]
    }
   ],
   "source": [
    "class Solution:\n",
    "    def lengthOfLongestSubstring(self, s: str) -> int:\n",
    "        left = 0 \n",
    "        right = 0\n",
    "\n",
    "        longest = 0 #keep track of longest valid substring\n",
    "        hashSet = set() #use a set for determining duplicates and for O(1) lookup\n",
    "\n",
    "        while right < len(s):\n",
    "            if s[right] not in hashSet:\n",
    "                hashSet.add(s[right])\n",
    "                longest = max(longest, (right - left) + 1) #(right - left) + 1 calculates window length\n",
    "                right += 1\n",
    "            elif s[right] in hashSet:\n",
    "                hashSet.remove(s[left])\n",
    "                left += 1\n",
    "\n",
    "        return longest\n",
    "\n",
    "sol = Solution()\n",
    "s = \"abcabcbb\"\n",
    "print(sol.lengthOfLongestSubstring(s))\n",
    "\n",
    "#Time: O(n) because we iterage through the array\n",
    "#Space: O(n) because we use a set\n",
    "\n",
    "        "
   ]
  }
 ],
 "metadata": {
  "kernelspec": {
   "display_name": "Python 3",
   "language": "python",
   "name": "python3"
  },
  "language_info": {
   "codemirror_mode": {
    "name": "ipython",
    "version": 3
   },
   "file_extension": ".py",
   "mimetype": "text/x-python",
   "name": "python",
   "nbconvert_exporter": "python",
   "pygments_lexer": "ipython3",
   "version": "3.11.4"
  }
 },
 "nbformat": 4,
 "nbformat_minor": 2
}
