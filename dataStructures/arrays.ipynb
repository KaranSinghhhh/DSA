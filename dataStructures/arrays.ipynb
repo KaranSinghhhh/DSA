{
 "cells": [
  {
   "cell_type": "markdown",
   "metadata": {},
   "source": [
    "Array:\n",
    "- Is a data structure\n",
    "- In python, arrays are heterogeneous structures and can store any types of values\n",
    "- However, in python we call arrays, lists instead\n",
    "\n",
    "- Operations on Array Data structures:\n",
    "- Access and read values: elements in an array are identified using a value known as an index to      access and read a value. Index will start at 0\n",
    "- Search for an arbitrary values\n",
    "- Insert values at any point into the structure\n",
    "- Delete values in the structure\n"
   ]
  },
  {
   "cell_type": "code",
   "execution_count": 14,
   "metadata": {},
   "outputs": [
    {
     "name": "stdout",
     "output_type": "stream",
     "text": [
      "Index 0:  1\n",
      "Index 1:  2\n",
      "Index 2:  3\n",
      "True\n",
      "True\n",
      "[1, 2, 3, 4, 5, 6]\n",
      "[1, 2, 3, 4, 5, 6, 7]\n",
      "[1, 2, 3, 4, 5, 6, 7, 8, 9, 10]\n",
      "[2, 3, 4, 5, 6, 7, 8, 9, 10]\n",
      "[2, 4, 5, 6, 7, 8, 9, 10]\n"
     ]
    }
   ],
   "source": [
    "#operations on Array Data structures\n",
    "\n",
    "my_list = [1,2,3]\n",
    "#Access and read values operation:\n",
    "index_zero = my_list[0]\n",
    "print(\"Index 0: \", index_zero)\n",
    "index_one = my_list[1]\n",
    "print(\"Index 1: \", index_one)\n",
    "index_two = my_list[2]\n",
    "print(\"Index 2: \", index_two)\n",
    "\n",
    "#Search for an arbitrary value operation\n",
    "#Method 1:\n",
    "if 1 in my_list:\n",
    "    print(True)\n",
    "\n",
    "for i in my_list:\n",
    "    if i == 1:\n",
    "        print(True)\n",
    "        break\n",
    "\n",
    "#Insert Values at any point into the structure operations\n",
    "#3 methods: insert, append, extend\n",
    "#Insert method:\n",
    "new_list = [2, 3, 4, 5, 6]\n",
    "new_list.insert(0, 1) #will insert at the 0 index, an int with the value of \"1\"\n",
    "print(new_list)\n",
    "\n",
    "#Append method:\n",
    "new_list.append(7)  #will add the int with value of \"7\" to the end of the list\n",
    "print(new_list) \n",
    "\n",
    "#Extend method:\n",
    "new_list.extend([8,9,10]) #Will extend these int values in specified order to the end of the list\n",
    "print(new_list)\n",
    "\n",
    "#Delete values operations\n",
    "#Remove method:\n",
    "new_list.remove(1) #Removes the first occurence of the value \"1\"\n",
    "print(new_list) \n",
    "\n",
    "#Pop method:\n",
    "new_list.pop(1) #Removes the element at index 1, .pop can remove an element at any index \n",
    "print(new_list)\n",
    "\n",
    "\n",
    "\n",
    "\n",
    "\n"
   ]
  }
 ],
 "metadata": {
  "kernelspec": {
   "display_name": "Python 3",
   "language": "python",
   "name": "python3"
  },
  "language_info": {
   "codemirror_mode": {
    "name": "ipython",
    "version": 3
   },
   "file_extension": ".py",
   "mimetype": "text/x-python",
   "name": "python",
   "nbconvert_exporter": "python",
   "pygments_lexer": "ipython3",
   "version": "3.11.4"
  }
 },
 "nbformat": 4,
 "nbformat_minor": 2
}
