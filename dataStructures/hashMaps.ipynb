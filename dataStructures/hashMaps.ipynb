{
 "cells": [
  {
   "cell_type": "markdown",
   "metadata": {},
   "source": [
    "Hashmaps\n",
    "- Are referred to as dictionaries in python\n",
    "- Is a data structure that stores information called values that pairs them up with unique identifiers  called keys.\n",
    "- Key:value\n",
    "\n",
    "Benefits of Hashmaps:\n",
    "- Custom keys are easier for software engineers to work with\n",
    "- HashMaps allow for search in O(1), whereas arrays/linked lists are O(n)\n",
    "\n",
    "Main Things about Hash Functions:\n",
    "- Once data is mapped to a key, for example: France = index 0, we cannot change this key to for example:\n",
    "Germany = index 0. This is known as Error: Can't mutate key which means any key in a hashmap must be immutable\n",
    "- If we try to assign a mutable type of data as a key like an array/list [2,5,1], we will get a TypeError: unhashable type: 'list'. To fix this we can convert to a tuple which is a immutable data type.\n",
    "\n"
   ]
  },
  {
   "cell_type": "code",
   "execution_count": 16,
   "metadata": {},
   "outputs": [
    {
     "name": "stdout",
     "output_type": "stream",
     "text": [
      "{'Canada': ['Calgary', 'Vancouver', 'Toronto']}\n",
      "dict_keys(['Canada'])\n",
      "dict_values([['Calgary', 'Vancouver', 'Toronto']])\n",
      "dict_items([('Canada', ['Calgary', 'Vancouver', 'Toronto'])])\n"
     ]
    }
   ],
   "source": [
    "#Creating a hashmap\n",
    "#1. Initializing:\n",
    "city_map = {}\n",
    "#or city_map = dict()\n",
    "\n",
    "#2. Adding Data:\n",
    "city_map[\"Canada\"] = []\n",
    "cities = [\"Calgary\", \"Vancouver\", \"Toronto\"]\n",
    "city_map[\"Canada\"] += cities\n",
    "print(city_map)\n",
    "\n",
    "#3. Retrieving Data\n",
    "# hashmap.keys() will return all the keys \n",
    "# hashmap.values() will return all the values\n",
    "# hashmap.items() will return all the items which means both keys and values\n",
    "print(city_map.keys())\n",
    "print(city_map.values())\n",
    "print(city_map.items())\n",
    "\n",
    "\n"
   ]
  },
  {
   "cell_type": "code",
   "execution_count": 2,
   "metadata": {},
   "outputs": [
    {
     "name": "stdout",
     "output_type": "stream",
     "text": [
      "defaultdict(<class 'list'>, {'Canada': ['Calgary', 'Vancouver', 'Toronto']})\n"
     ]
    }
   ],
   "source": [
    "#Trick\n",
    "#Dictionary: All keys need to be initialized:\n",
    "#If we use a DefaultDict: All keys are already initialized\n",
    "from collections import defaultdict\n",
    "\n",
    "city_map = defaultdict(list)\n",
    "cities = [\"Calgary\", \"Vancouver\", \"Toronto\"]\n",
    "city_map[\"Canada\"] += cities\n",
    "print(city_map)"
   ]
  }
 ],
 "metadata": {
  "kernelspec": {
   "display_name": "Python 3",
   "language": "python",
   "name": "python3"
  },
  "language_info": {
   "codemirror_mode": {
    "name": "ipython",
    "version": 3
   },
   "file_extension": ".py",
   "mimetype": "text/x-python",
   "name": "python",
   "nbconvert_exporter": "python",
   "pygments_lexer": "ipython3",
   "version": "3.11.4"
  }
 },
 "nbformat": 4,
 "nbformat_minor": 2
}
