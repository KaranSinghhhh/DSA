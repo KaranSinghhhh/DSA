{
 "cells": [
  {
   "cell_type": "markdown",
   "metadata": {},
   "source": [
    "Linked Lists:\n",
    "- A linked list is a linear data structure\n",
    "- Each element in the list is contained is a separate object called a node\n",
    "- A Node models two pieces of information:\n",
    "  An individual item of the data we want to store.\n",
    "  A reference to the next node in the list.\n",
    "- The first node in a linked list is called the \"head\" of the list:\n",
    "  *The list only maintains a reference to the head, although for some implementations it keeps a reference to the tail as well.\n",
    "- The last node in a linked list is called the \"tail\" of the list\n",
    "  *Denotes the end of the list\n",
    "- Every node other than the tail points to the next node in the list but the tail doesn't point to\n",
    "  anything. Nodes are called self referential objects.\n",
    "- The definition of a node includes a link to another node\n",
    "- Singly Linked List: each node stores a reference to the next node in the list\n",
    "- Doubly Linked list: each node stores a reference to the node before and after\n",
    "  *The head node in a doubly linked list does not store a refernce to the node before because there   is nothing before the head\n",
    "  *The tail node in a doubly linked list does not store a refernce to the node after because there is  nothing after the tail  \n",
    "   "
   ]
  },
  {
   "cell_type": "code",
   "execution_count": null,
   "metadata": {},
   "outputs": [],
   "source": [
    "#Create a singly linked list\n",
    "class Node:\n",
    "    data = None      #Hold on to the data we are storing\n",
    "    next_node = None #point to the next node in the list\n",
    "\n",
    "    def __init__(self, data):\n",
    "        self.data = data\n",
    "\n",
    "    def __repr__(self):\n",
    "        return \"<Node Data: %s>\" % self.data\n",
    "\n",
    "class LinkedList:\n",
    "    \"\"\"\n",
    "    Single Linked list\n",
    "    \"\"\"\n",
    "    \n",
    "    def __init__(self):\n",
    "        self.head = None\n",
    "\n",
    "    def is_empty(self):\n",
    "        return self.head == None\n",
    "\n",
    "\n",
    "    def size(self):\n",
    "        \"\"\"\n",
    "        Returns the number of nodes in the list.\n",
    "        Takes O(n) time\n",
    "        \"\"\"\n",
    "\n",
    "        current = self.head\n",
    "        count = 0 \n",
    "\n",
    "        while current:\n",
    "            count = count + 1\n",
    "            current = current.next_node\n",
    "\n",
    "        return count\n",
    "    \n",
    "\n",
    "\n",
    "\n"
   ]
  },
  {
   "cell_type": "markdown",
   "metadata": {},
   "source": []
  },
  {
   "cell_type": "markdown",
   "metadata": {},
   "source": []
  },
  {
   "cell_type": "code",
   "execution_count": null,
   "metadata": {},
   "outputs": [],
   "source": []
  },
  {
   "cell_type": "markdown",
   "metadata": {},
   "source": []
  }
 ],
 "metadata": {
  "kernelspec": {
   "display_name": "Python 3",
   "language": "python",
   "name": "python3"
  },
  "language_info": {
   "codemirror_mode": {
    "name": "ipython",
    "version": 3
   },
   "file_extension": ".py",
   "mimetype": "text/x-python",
   "name": "python",
   "nbconvert_exporter": "python",
   "pygments_lexer": "ipython3",
   "version": "3.11.4"
  }
 },
 "nbformat": 4,
 "nbformat_minor": 2
}
