{
 "cells": [
  {
   "cell_type": "markdown",
   "metadata": {},
   "source": [
    "Day 8/100\n",
    "Arrays & Hashing Review\n",
    "- Leetcode 217 - \"Contains Duplicate\"\n",
    "- Leetcode 242 - \"Valid Anagram\"\n",
    "- Leetcode 1 - \"Two Sum\""
   ]
  },
  {
   "cell_type": "markdown",
   "metadata": {},
   "source": [
    "- Leetcode 217 - \"Contains Duplicate\"\n",
    "Given an integer array nums, return true if any value appears at least twice in the array, and return false if every element is distinct.\n",
    "\n",
    "Example 1:\n",
    "Input: nums = [1,2,3,1]\n",
    "Output: true\n",
    "\n",
    "Example 2:\n",
    "Input: nums = [1,2,3,4]\n",
    "Output: false\n",
    "\n",
    "Example 3:\n",
    "Input: nums = [1,1,1,3,3,4,3,2,4,2]\n",
    "Output: true\n",
    " \n",
    "\n",
    "Constraints:\n",
    "\n",
    "1 <= nums.length <= 105\n",
    "-109 <= nums[i] <= 109"
   ]
  },
  {
   "cell_type": "code",
   "execution_count": null,
   "metadata": {},
   "outputs": [],
   "source": [
    "# Leetcode 217 - \"Contains Duplicate\" Solution\n",
    "from typing import List\n",
    "\n",
    "class Solution:\n",
    "    def containsDuplicate(self, nums: List[int]) -> bool:\n",
    "        hashMap = {} #Value, count\n",
    "\n",
    "        for i in nums:\n",
    "            if i not in hashMap:\n",
    "                hashMap[i] = 1\n",
    "            else: #i is not a value, associated as a key, in hashMap\n",
    "                hashMap[i] += 1\n",
    "\n",
    "        for count in hashMap.values():\n",
    "            if count >= 2: #Only if there is a count that is >= 2, we return True\n",
    "                return True\n",
    "        return False # We do not use else or elif block for this\n",
    "        \n",
    "#Time: O(n)\n",
    "#Space: "
   ]
  },
  {
   "cell_type": "markdown",
   "metadata": {},
   "source": [
    "Leetcode 242 - \"Valid Anagram\"\n",
    "\n",
    "Given two strings s and t, return true if t is an anagram of s, and false otherwise.\n",
    "\n",
    "An Anagram is a word or phrase formed by rearranging the letters of a different word or phrase, typically using all the original letters exactly once.\n",
    "\n",
    "Example 1:\n",
    "Input: s = \"anagram\", t = \"nagaram\"\n",
    "Output: true\n",
    "\n",
    "Example 2:\n",
    "Input: s = \"rat\", t = \"car\"\n",
    "Output: false\n",
    " \n",
    "Constraints:\n",
    "\n",
    "1 <= s.length, t.length <= 5 * 104\n",
    "s and t consist of lowercase English letters.\n",
    " \n",
    "\n",
    "Follow up: What if the inputs contain Unicode characters? How would you adapt your solution to such a case?"
   ]
  },
  {
   "cell_type": "code",
   "execution_count": null,
   "metadata": {},
   "outputs": [],
   "source": [
    "# Solving Leetcode 242 - \"Valid Anagram\"\n",
    "class Solution:\n",
    "    def isAnagram(self, s: str, t: str) -> bool:\n",
    "        hashMap1 = {}\n",
    "        hashMap2 = {}\n",
    "\n",
    "        for letter in s:\n",
    "            if letter not in hashMap1:\n",
    "                hashMap1[letter] = 1\n",
    "            else:\n",
    "                hashMap1[letter] += 1\n",
    "\n",
    "        for letter in t:\n",
    "            if letter not in hashMap2:\n",
    "                hashMap2[letter] = 1\n",
    "            else:\n",
    "                hashMap2[letter] += 1\n",
    "\n",
    "        if hashMap1 == hashMap2:\n",
    "            return True\n",
    "        else:\n",
    "            return False\n",
    "\n",
    "#Time: O(n)\n",
    "#Space: O(n)"
   ]
  },
  {
   "cell_type": "markdown",
   "metadata": {},
   "source": [
    "Leetcode 1 - \"Two Sum\"\n",
    "\n",
    "Example 1:\n",
    "Input: nums = [2,7,11,15], target = 9\n",
    "Output: [0,1]\n",
    "Explanation: Because nums[0] + nums[1] == 9, we return [0, 1].\n",
    "\n",
    "Example 2:\n",
    "Input: nums = [3,2,4], target = 6\n",
    "Output: [1,2]\n",
    "\n",
    "Example 3:\n",
    "Input: nums = [3,3], target = 6\n",
    "Output: [0,1]\n",
    " \n",
    "Constraints:\n",
    "\n",
    "2 <= nums.length <= 104\n",
    "-109 <= nums[i] <= 109\n",
    "-109 <= target <= 109\n",
    "Only one valid answer exists.\n",
    " \n",
    "\n",
    "Follow-up: Can you come up with an algorithm that is less than O(n2) time complexity?"
   ]
  },
  {
   "cell_type": "code",
   "execution_count": null,
   "metadata": {},
   "outputs": [],
   "source": [
    "#Solving Leetcode 1 - \"Two Sum\"\n",
    "class Solution:\n",
    "    def twoSum(self, nums: List[int], target: int) -> List[int]:\n",
    "        hashMap = {}\n",
    "\n",
    "        for i in nums:\n",
    "\n",
    "        "
   ]
  }
 ],
 "metadata": {
  "language_info": {
   "name": "python"
  }
 },
 "nbformat": 4,
 "nbformat_minor": 2
}
