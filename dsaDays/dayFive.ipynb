{
 "cells": [
  {
   "cell_type": "markdown",
   "metadata": {},
   "source": [
    "Day 5/100\n",
    "Sliding Window\n",
    "- Leetcode 643 - \"Maximum Avarage of Subarray 1\"\n",
    "- Leetcde 2269 - \"Find the k-beauty of a number\"\n",
    "- Leetcode 1876 - \"Substrings of size three with distinct characters\"\n"
   ]
  },
  {
   "cell_type": "markdown",
   "metadata": {},
   "source": [
    "Sliding Window\n",
    "- Used for finding subarrays in an array that satosfy given conditions\n",
    "- Mantain a subset of items as your window and resize and move that window within the larger list until you find a solution\n",
    "- Subset of dynamic programming (technique of solving a problem via dividing it into sub problems)\n",
    "- Time Complexity: O(n) = linear time\n",
    "- Space Complexity: O(1) = constant space\n",
    "- You can identify sliding window problems amongst subarray/substring related questions"
   ]
  },
  {
   "cell_type": "markdown",
   "metadata": {},
   "source": [
    "How does it work?\n",
    "Find the subarrays that add up to 9 (target).\n",
    "[1,2,3,4,5,6,7,8,9]\n",
    "\n",
    "iterations: \n",
    "- [1] -> 1, [1,2] ->3 , [1,2,3] -> 6, [1,2,3,4] -> 10 (the subarray equals 10 which is bigger than target of 9 so we shrink the window 1 element from the left)\n",
    "- [2,3,4] -> 9 (we have found the subarray that adds up to the target of 9)"
   ]
  },
  {
   "cell_type": "markdown",
   "metadata": {},
   "source": [
    "Example question 1:\n",
    "Given an array of integers, find maximum SUM of a subarray of the required size.\n",
    "\n",
    "Example Input: [-1, 2, 3, 1, -3, 2] Subarray size: 2\n",
    "Requirements:\n",
    "- subarrays are contiguous by definition, so the elements should be adjacent.\n",
    "- Input size could be anything\n",
    "\n",
    "Solution:\n",
    "- Start calculating the window sum starting with the first 2 elements\n",
    "- Slide the window by one element at a time\n",
    "- Time Complexity: O(n)\n",
    "- Space Complexity: O(1)\n",
    "\n",
    "iterations:\n",
    "- [-1, 2] -> sum: 1, [2, 3] -> sum: 5, [3, 1] -> sum: 4, [1,-3] -> sum: -2, [-3, 2] -> sum: -1"
   ]
  },
  {
   "cell_type": "code",
   "execution_count": 2,
   "metadata": {},
   "outputs": [
    {
     "name": "stdout",
     "output_type": "stream",
     "text": [
      "Maximum sum of subarray of size 2 is: 5\n"
     ]
    }
   ],
   "source": [
    "def max_sum_subarray(arr, k):\n",
    "    # Check if the input size is less than the subarray size\n",
    "    if len(arr) < k:\n",
    "        return None\n",
    "\n",
    "    # Initialize pointers and the sum of the first window\n",
    "    left = 0 #Left Start at 0 index\n",
    "    right = k - 1 #Right Start at k - 1 index, in this case, 2-1 = 1 <-- index\n",
    "    current_sum = sum(arr[left:right + 1]) #Sum the current subarray, +1 is included because of slicing \n",
    "    max_sum = current_sum\n",
    "\n",
    "    # Slide the window from left to right\n",
    "    while right < len(arr) - 1: #len(arr) - 1 is done for proper index counting\n",
    "        right += 1\n",
    "        current_sum = current_sum + (arr[right] - arr[left])\n",
    "        left += 1\n",
    "        if current_sum > max_sum:\n",
    "            max_sum = current_sum\n",
    "\n",
    "    return max_sum\n",
    "\n",
    "# Example usage\n",
    "arr = [-1, 2, 3, 1, -3, 2]\n",
    "k = 2\n",
    "result = max_sum_subarray(arr, k)\n",
    "print(\"Maximum sum of subarray of size\", k, \"is:\", result)\n",
    "\n",
    "'''\n",
    "Before the while loop:\n",
    "- current_sum = sum(arr[left:right + 1]) = sum([0:1+1]) = sum([-1,2]) = 1\n",
    "- max_sum = current_sum = 1\n",
    "\n",
    "within while loop:\n",
    "iterations:\n",
    "1. right+= 1, so right is 1+1= 2. the array is now [-1, 2, 3] with right being at \n",
    "   index 2 and left being at index 0. \"current_sum = current_sum + (arr[right] - arr[left])\" \n",
    "   is now current_sum = 1 + (3 - (-1)) = 5. Left+=1 so Left is now at index 1. Now current_sum = 5, and max_sum = 1. \n",
    "   Since current_sum is greater than max_score, max_score now equals current_sum so it equals 5.\n",
    "'''\n",
    "\n"
   ]
  },
  {
   "cell_type": "code",
   "execution_count": 1,
   "metadata": {},
   "outputs": [
    {
     "name": "stdout",
     "output_type": "stream",
     "text": [
      "Minimum sum of subarray of size 2 is: -2\n"
     ]
    }
   ],
   "source": [
    "#Finding the Minimum SUM of a subarray from example above\n",
    "def min_sum_subarray(arr, k):\n",
    "    if len(arr) < k:\n",
    "        return None\n",
    "    \n",
    "    left = 0\n",
    "    right = k - 1\n",
    "    current_sum = sum(arr[left:right+1])\n",
    "    min_sum = current_sum\n",
    "\n",
    "    while right < len(arr)-1:\n",
    "        right += 1\n",
    "        current_sum += arr[right] - arr[left]\n",
    "        left += 1\n",
    "        if current_sum < min_sum:\n",
    "            min_sum = current_sum\n",
    "    \n",
    "    return min_sum\n",
    "\n",
    "# Example usage\n",
    "arr = [-1, 2, 3, 1, -3, 2]\n",
    "k = 2\n",
    "result = min_sum_subarray(arr, k)\n",
    "print(\"Minimum sum of subarray of size\", k, \"is:\", result)\n"
   ]
  },
  {
   "cell_type": "markdown",
   "metadata": {},
   "source": [
    "- Leetcode 643 - \"Maximum Avarage of Subarray 1\"\n",
    "You are given an integer array nums consisting of n elements, and an integer k.\n",
    "\n",
    "Find a contiguous subarray whose length is equal to k that has the maximum average value and return this value. Any answer with a calculation error less than 10-5 will be accepted.\n",
    "\n",
    " \n",
    "\n",
    "Example 1:\n",
    "\n",
    "Input: nums = [1,12,-5,-6,50,3], k = 4\n",
    "Output: 12.75000\n",
    "Explanation: Maximum average is (12 - 5 - 6 + 50) / 4 = 51 / 4 = 12.75\n",
    "Example 2:\n",
    "\n",
    "Input: nums = [5], k = 1\n",
    "Output: 5.00000\n",
    " \n",
    "\n",
    "Constraints:\n",
    "\n",
    "n == nums.length\n",
    "1 <= k <= n <= 105\n",
    "-104 <= nums[i] <= 104\n"
   ]
  },
  {
   "cell_type": "code",
   "execution_count": 26,
   "metadata": {},
   "outputs": [
    {
     "name": "stdout",
     "output_type": "stream",
     "text": [
      "Initial Current Sum: 2\n",
      "Maximum average of subarray of size 4 is: 12.75\n"
     ]
    }
   ],
   "source": [
    "from typing import List\n",
    "\n",
    "class Solution:\n",
    "    def findMaxAverage(self, nums: List[int], k: int) -> float:\n",
    "        # Initialize the sum of the first window\n",
    "        left = 0\n",
    "        right = k - 1\n",
    "        current_sum = sum(nums[left:right+1])\n",
    "        print(f\"Initial Current Sum: {current_sum}\") #Printing test\n",
    "        max_sum = current_sum\n",
    "\n",
    "        # Slide the window using a while loop\n",
    "        while right < len(nums) - 1:\n",
    "            right += 1\n",
    "            current_sum = current_sum + (nums[right] - nums[left])\n",
    "            left += 1\n",
    "            if current_sum > max_sum:\n",
    "                max_sum = current_sum\n",
    "        \n",
    "        # Return the maximum average\n",
    "        return max_sum / k\n",
    "\n",
    "# Example usage\n",
    "solution = Solution()\n",
    "nums = [1, 12, -5, -6, 50, 3]\n",
    "k = 4\n",
    "result = solution.findMaxAverage(nums, k)\n",
    "print(\"Maximum average of subarray of size\", k, \"is:\", result)\n",
    "\n",
    "\n"
   ]
  },
  {
   "cell_type": "code",
   "execution_count": 3,
   "metadata": {},
   "outputs": [
    {
     "name": "stdout",
     "output_type": "stream",
     "text": [
      "Maximum average of subarray of size 4 is: 12.75\n"
     ]
    },
    {
     "data": {
      "text/plain": [
       "'\\nIterations\\ninitial: \\nleft = 0 (index)\\nright = k - 1 = 4 - 1 = 3 (index)\\ncurrent_sum = sum(nums[left:right + 1]) = sum([1, 12, -5, -6]) = 2\\nmax_sum = current_sum -> 2\\n\\nwhile loop iterations:\\n1. \\nright += 1 -> right = 3 + 1 = 4 (index)\\nleft += 1 -> left = 0 + 1 = 1 (index)\\ncurrent_sum = current_sum + (nums[right] - nums[left - 1]) -> 2 + (50 - 1) = 2 + 49 = 51\\nSince current_sum = 51, and it is greater than than max_sum, the max_sum now = current_sum which means max_sum = 51\\n\\n\\n2. \\nright += 1 -> right = 4 + 1 = 5 (index)\\nleft += 1 -> left = 1 + 1 = 2 (index)\\ncurrent_sum = current_sum + (nums[right] - nums[left - 1]) -> 51 + (3 - 12) = 51 + (-9) = 42 \\nsince current_sum = 42, and it is NOT greater than than max_sum, we ignore the if conditional \\n'"
      ]
     },
     "execution_count": 3,
     "metadata": {},
     "output_type": "execute_result"
    }
   ],
   "source": [
    "from typing import List\n",
    "\n",
    "class Solution:\n",
    "    def findMaxAverage(self, nums: List[int], k: int) -> float:\n",
    "        left = 0\n",
    "        right = k - 1\n",
    "\n",
    "        current_sum = sum(nums[left:right+1])\n",
    "        max_sum = current_sum\n",
    "\n",
    "        while right < len(nums) - 1:\n",
    "            right += 1\n",
    "            current_sum = current_sum + (nums[right] - nums[left])\n",
    "            left += 1\n",
    "            if current_sum > max_sum:\n",
    "                max_sum = current_sum\n",
    "            \n",
    "        return max_sum/k\n",
    "        \n",
    "\n",
    "# Example usage\n",
    "solution = Solution()\n",
    "nums = [1, 12, -5, -6, 50, 3]\n",
    "k = 4\n",
    "result = solution.findMaxAverage(nums, k)\n",
    "print(\"Maximum average of subarray of size\", k, \"is:\", result)\n",
    "\n",
    "'''\n",
    "Iterations\n",
    "initial: \n",
    "left = 0 (index)\n",
    "right = k - 1 = 4 - 1 = 3 (index)\n",
    "current_sum = sum(nums[left:right + 1]) = sum([1, 12, -5, -6]) = 2\n",
    "max_sum = current_sum -> 2\n",
    "\n",
    "while loop iterations:\n",
    "1. \n",
    "right += 1 -> right = 3 + 1 = 4 (index)\n",
    "left += 1 -> left = 0 + 1 = 1 (index)\n",
    "current_sum = current_sum + (nums[right] - nums[left - 1]) -> 2 + (50 - 1) = 2 + 49 = 51\n",
    "Since current_sum = 51, and it is greater than than max_sum, the max_sum now = current_sum which means max_sum = 51\n",
    "\n",
    "\n",
    "2. \n",
    "right += 1 -> right = 4 + 1 = 5 (index)\n",
    "left += 1 -> left = 1 + 1 = 2 (index)\n",
    "current_sum = current_sum + (nums[right] - nums[left - 1]) -> 51 + (3 - 12) = 51 + (-9) = 42 \n",
    "since current_sum = 42, and it is NOT greater than than max_sum, we ignore the if conditional \n",
    "'''\n"
   ]
  },
  {
   "cell_type": "markdown",
   "metadata": {},
   "source": [
    "- Leetcde 2269 - \"Find the k-beauty of a number\"\n",
    "The k-beauty of an integer num is defined as the number of substrings of num when it is read as a string that meet the following conditions:\n",
    "\n",
    "It has a length of k.\n",
    "It is a divisor of num.\n",
    "Given integers num and k, return the k-beauty of num.\n",
    "\n",
    "Note:\n",
    "\n",
    "Leading zeros are allowed.\n",
    "0 is not a divisor of any value.\n",
    "A substring is a contiguous sequence of characters in a string.\n",
    "\n",
    " \n",
    "\n",
    "Example 1:\n",
    "\n",
    "Input: num = 240, k = 2\n",
    "Output: 2\n",
    "Explanation: The following are the substrings of num of length k:\n",
    "- \"24\" from \"240\": 24 is a divisor of 240.\n",
    "- \"40\" from \"240\": 40 is a divisor of 240.\n",
    "Therefore, the k-beauty is 2.\n",
    "Example 2:\n",
    "\n",
    "Input: num = 430043, k = 2\n",
    "Output: 2\n",
    "Explanation: The following are the substrings of num of length k:\n",
    "- \"43\" from \"430043\": 43 is a divisor of 430043.\n",
    "- \"30\" from \"430043\": 30 is not a divisor of 430043.\n",
    "- \"00\" from \"430043\": 0 is not a divisor of 430043.\n",
    "- \"04\" from \"430043\": 4 is not a divisor of 430043.\n",
    "- \"43\" from \"430043\": 43 is a divisor of 430043.\n",
    "Therefore, the k-beauty is 2.\n",
    " \n",
    "\n",
    "Constraints:\n",
    "\n",
    "1 <= num <= 109\n",
    "1 <= k <= num.length (taking num as a string)"
   ]
  },
  {
   "cell_type": "code",
   "execution_count": 7,
   "metadata": {},
   "outputs": [
    {
     "name": "stdout",
     "output_type": "stream",
     "text": [
      "Total divisor substrings of length 2 is: 2\n"
     ]
    }
   ],
   "source": [
    "class Solution:\n",
    "    def divisorSubstrings(self, num: int, k: int) -> int:\n",
    "        total = 0 \n",
    "        num_str = str(num)\n",
    "        \n",
    "        left = 0\n",
    "        right = k - 1\n",
    "        current = int(num_str[left:right+1])\n",
    "        \n",
    "        if current !=0 and num % current == 0:\n",
    "            total += 1\n",
    "        \n",
    "        while right < len(num_str) - 1:\n",
    "            right += 1\n",
    "            left += 1\n",
    "            current = int(num_str[left:right+1])\n",
    "            \n",
    "            if current != 0 and num % current == 0:\n",
    "                total += 1\n",
    "\n",
    "        return total\n",
    "    \n",
    "solution = Solution()\n",
    "num = 240\n",
    "k = 2\n",
    "result = solution.divisorSubstrings(num, k)\n",
    "print(\"Total divisor substrings of length\", k, \"is:\", result)\n"
   ]
  },
  {
   "cell_type": "markdown",
   "metadata": {},
   "source": [
    "- Leetcode 1876 - \"Substrings of size three with distinct characters\"\n",
    "\n",
    "A string is good if there are no repeated characters.\n",
    "\n",
    "Given a string s​​​​​, return the number of good substrings of length three in s​​​​​​.\n",
    "\n",
    "Note that if there are multiple occurrences of the same substring, every occurrence should be counted.\n",
    "\n",
    "A substring is a contiguous sequence of characters in a string.\n",
    "\n",
    "Example 1:\n",
    "Input: s = \"xyzzaz\"\n",
    "Output: 1\n",
    "Explanation: There are 4 substrings of size 3: \"xyz\", \"yzz\", \"zza\", and \"zaz\". \n",
    "The only good substring of length 3 is \"xyz\".\n",
    "\n",
    "Example 2:\n",
    "Input: s = \"aababcabc\"\n",
    "Output: 4\n",
    "Explanation: There are 7 substrings of size 3: \"aab\", \"aba\", \"bab\", \"abc\", \"bca\", \"cab\", and \"abc\".\n",
    "The good substrings are \"abc\", \"bca\", \"cab\", and \"abc\".\n",
    " \n",
    "\n",
    "Constraints:\n",
    "\n",
    "1 <= s.length <= 100\n",
    "s​​​​​​ consists of lowercase English letters."
   ]
  },
  {
   "cell_type": "code",
   "execution_count": 8,
   "metadata": {},
   "outputs": [
    {
     "name": "stdout",
     "output_type": "stream",
     "text": [
      "There are 4 good substrings\n"
     ]
    }
   ],
   "source": [
    "class Solution:\n",
    "    def countGoodSubstrings(self, s: str) -> int:\n",
    "        total = 0 \n",
    "        left = 0 \n",
    "        right = 2\n",
    "        current = s[left:right+1]\n",
    "        current_set = set(current)\n",
    "        if len(current_set) == 3:\n",
    "            total += 1\n",
    "\n",
    "        while right < len(s) - 1:\n",
    "            left += 1\n",
    "            right += 1\n",
    "            current = s[left:right+1]\n",
    "            current_set = set(current)\n",
    "            if len(current_set) == 3:\n",
    "                total += 1\n",
    "        \n",
    "        return total\n",
    "    \n",
    "solution = Solution()\n",
    "s = \"aababcabc\"\n",
    "result = solution.countGoodSubstrings(s)\n",
    "print(f\"There are {result} good substrings\")\n"
   ]
  }
 ],
 "metadata": {
  "kernelspec": {
   "display_name": "Python 3",
   "language": "python",
   "name": "python3"
  },
  "language_info": {
   "codemirror_mode": {
    "name": "ipython",
    "version": 3
   },
   "file_extension": ".py",
   "mimetype": "text/x-python",
   "name": "python",
   "nbconvert_exporter": "python",
   "pygments_lexer": "ipython3",
   "version": "3.11.4"
  }
 },
 "nbformat": 4,
 "nbformat_minor": 2
}
