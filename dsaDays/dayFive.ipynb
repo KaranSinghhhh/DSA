{
 "cells": [
  {
   "cell_type": "markdown",
   "metadata": {},
   "source": [
    "Day 5/100\n",
    "Sliding Window"
   ]
  },
  {
   "cell_type": "markdown",
   "metadata": {},
   "source": [
    "Sliding Window\n",
    "- Used for finding subarrays in an array that satosfy given conditions\n",
    "- Mantain a subset of items as your window and resize and move that window within the larger list until you find a solution\n",
    "- Subset of dynamic programming (technique of solving a problem via dividing it into sub problems)\n",
    "- Time Complexity: O(n) = linear time\n",
    "- Space Complexity: O(1) = constant space\n",
    "- You can identify sliding window problems amongst subarray/substring related questions"
   ]
  },
  {
   "cell_type": "markdown",
   "metadata": {},
   "source": [
    "How does it work?\n",
    "Find the subarrays that add up to 9 (target).\n",
    "[1,2,3,4,5,6,7,8,9]\n",
    "\n",
    "iterations: \n",
    "- [1] -> 1, [1,2] ->3 , [1,2,3] -> 6, [1,2,3,4] -> 10 (the subarray equals 10 which is bigger than target of 9 so we shrink the window 1 element from the left)\n",
    "- [2,3,4] -> 9 (we have found the subarray that adds up to the target of 9)"
   ]
  },
  {
   "cell_type": "markdown",
   "metadata": {},
   "source": [
    "Example question 1:\n",
    "Given an array of integers, find maximum SUM of a subarray of the required size.\n",
    "\n",
    "Example Input: [-1, 2, 3, 1, -3, 2] Subarray size: 2\n",
    "Requirements:\n",
    "- subarrays are contiguous by definition, so the elements should be adjacent.\n",
    "- Input size could be anything\n",
    "\n",
    "Solution:\n",
    "- Start calculating the window sum starting with the first 2 elements\n",
    "- Slide the window by one element at a time\n",
    "- Time Complexity: O(n)\n",
    "- Space Complexity: O(1)\n",
    "\n",
    "iterations:\n",
    "- [-1, 2] -> sum: 1, [2, 3] -> sum: 5, [3, 1] -> sum: 4, [1,-3] -> sum: -2, [-3, 2] -> sum: -1"
   ]
  },
  {
   "cell_type": "code",
   "execution_count": 1,
   "metadata": {},
   "outputs": [
    {
     "name": "stdout",
     "output_type": "stream",
     "text": [
      "Maximum sum of subarray of size 2 is: 5\n"
     ]
    }
   ],
   "source": [
    "#Example question 1 code:\n",
    "def max_sum_subarray(arr, k):\n",
    "    # Check if the input size is less than the subarray size\n",
    "    if len(arr) < k:\n",
    "        return None\n",
    "\n",
    "    # Calculate the sum of the first 'k' elements\n",
    "    max_sum = sum(arr[:k])\n",
    "    current_sum = max_sum\n",
    "\n",
    "    # Slide the window from left to right\n",
    "    for i in range(k, len(arr)):\n",
    "        current_sum += arr[i] - arr[i - k]\n",
    "        if current_sum > max_sum:\n",
    "            max_sum = current_sum\n",
    "\n",
    "    return max_sum\n",
    "\n",
    "# Example usage\n",
    "arr = [-1, 2, 3, 1, -3, 2]\n",
    "k = 2\n",
    "result = max_sum_subarray(arr, k)\n",
    "print(\"Maximum sum of subarray of size\", k, \"is:\", result)\n"
   ]
  }
 ],
 "metadata": {
  "kernelspec": {
   "display_name": "Python 3",
   "language": "python",
   "name": "python3"
  },
  "language_info": {
   "codemirror_mode": {
    "name": "ipython",
    "version": 3
   },
   "file_extension": ".py",
   "mimetype": "text/x-python",
   "name": "python",
   "nbconvert_exporter": "python",
   "pygments_lexer": "ipython3",
   "version": "3.11.4"
  }
 },
 "nbformat": 4,
 "nbformat_minor": 2
}
