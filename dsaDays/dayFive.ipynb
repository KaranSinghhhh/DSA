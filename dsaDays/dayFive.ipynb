{
 "cells": [
  {
   "cell_type": "markdown",
   "metadata": {},
   "source": [
    "Day 5/100\n",
    "Sliding Window\n",
    "- Leetcode 643 - \"Maximum Avarage of Subarray 1\""
   ]
  },
  {
   "cell_type": "markdown",
   "metadata": {},
   "source": [
    "Sliding Window\n",
    "- Used for finding subarrays in an array that satosfy given conditions\n",
    "- Mantain a subset of items as your window and resize and move that window within the larger list until you find a solution\n",
    "- Subset of dynamic programming (technique of solving a problem via dividing it into sub problems)\n",
    "- Time Complexity: O(n) = linear time\n",
    "- Space Complexity: O(1) = constant space\n",
    "- You can identify sliding window problems amongst subarray/substring related questions"
   ]
  },
  {
   "cell_type": "markdown",
   "metadata": {},
   "source": [
    "How does it work?\n",
    "Find the subarrays that add up to 9 (target).\n",
    "[1,2,3,4,5,6,7,8,9]\n",
    "\n",
    "iterations: \n",
    "- [1] -> 1, [1,2] ->3 , [1,2,3] -> 6, [1,2,3,4] -> 10 (the subarray equals 10 which is bigger than target of 9 so we shrink the window 1 element from the left)\n",
    "- [2,3,4] -> 9 (we have found the subarray that adds up to the target of 9)"
   ]
  },
  {
   "cell_type": "markdown",
   "metadata": {},
   "source": [
    "Example question 1:\n",
    "Given an array of integers, find maximum SUM of a subarray of the required size.\n",
    "\n",
    "Example Input: [-1, 2, 3, 1, -3, 2] Subarray size: 2\n",
    "Requirements:\n",
    "- subarrays are contiguous by definition, so the elements should be adjacent.\n",
    "- Input size could be anything\n",
    "\n",
    "Solution:\n",
    "- Start calculating the window sum starting with the first 2 elements\n",
    "- Slide the window by one element at a time\n",
    "- Time Complexity: O(n)\n",
    "- Space Complexity: O(1)\n",
    "\n",
    "iterations:\n",
    "- [-1, 2] -> sum: 1, [2, 3] -> sum: 5, [3, 1] -> sum: 4, [1,-3] -> sum: -2, [-3, 2] -> sum: -1"
   ]
  },
  {
   "cell_type": "code",
   "execution_count": 32,
   "metadata": {},
   "outputs": [
    {
     "name": "stdout",
     "output_type": "stream",
     "text": [
      "Current Sum: 5\n",
      "Current Sum: 4\n",
      "Current Sum: -2\n",
      "Current Sum: -1\n",
      "Maximum sum of subarray of size 2 is: 5\n",
      "Minimum sum of subarray of size 2 is: -2\n"
     ]
    }
   ],
   "source": [
    "def max_sum_subarray(arr, k):\n",
    "    # Check if the input size is less than the subarray size\n",
    "    if len(arr) < k:\n",
    "        return None\n",
    "\n",
    "    # Initialize pointers and the sum of the first window\n",
    "    left = 0 #Left Start at 0 index\n",
    "    right = k - 1 #Right Start at k - 1 index, in this case, 2-1 = 1 <-- index\n",
    "    current_sum = sum(arr[left:right + 1]) #Sum the current subarray, +1 is included because of slicing \n",
    "    max_sum = current_sum\n",
    "\n",
    "    # Slide the window from left to right\n",
    "    while right < len(arr) - 1: #len(arr) - 1 is done for proper index countinh\n",
    "        right += 1\n",
    "        current_sum += arr[right] - arr[left]\n",
    "        print(\"Current Sum:\", current_sum)\n",
    "        left += 1\n",
    "        if current_sum > max_sum:\n",
    "            max_sum = current_sum\n",
    "\n",
    "    return max_sum\n",
    "\n",
    "# Example usage\n",
    "arr = [-1, 2, 3, 1, -3, 2]\n",
    "k = 2\n",
    "result = max_sum_subarray(arr, k)\n",
    "print(\"Maximum sum of subarray of size\", k, \"is:\", result)\n",
    "\n",
    "#Finding the Minimum SUM of a subarray from example above\n",
    "def min_sum_subarray(arr, k):\n",
    "    if len(arr) < k:\n",
    "        return None\n",
    "    \n",
    "    left = 0\n",
    "    right = k - 1\n",
    "    current_sum = sum(arr[left:right+1])\n",
    "    min_sum = current_sum\n",
    "\n",
    "    while right < len(arr)-1:\n",
    "        right += 1\n",
    "        current_sum += arr[right] - arr[left]\n",
    "        left += 1\n",
    "        if current_sum < min_sum:\n",
    "            min_sum = current_sum\n",
    "    \n",
    "    return min_sum\n",
    "\n",
    "# Example usage\n",
    "arr = [-1, 2, 3, 1, -3, 2]\n",
    "k = 2\n",
    "result = min_sum_subarray(arr, k)\n",
    "print(\"Minimum sum of subarray of size\", k, \"is:\", result)\n",
    "\n",
    "\n",
    "\n"
   ]
  },
  {
   "cell_type": "markdown",
   "metadata": {},
   "source": [
    "- Leetcode 643 - \"Maximum Avarage of Subarray 1\"\n",
    "You are given an integer array nums consisting of n elements, and an integer k.\n",
    "\n",
    "Find a contiguous subarray whose length is equal to k that has the maximum average value and return this value. Any answer with a calculation error less than 10-5 will be accepted.\n",
    "\n",
    " \n",
    "\n",
    "Example 1:\n",
    "\n",
    "Input: nums = [1,12,-5,-6,50,3], k = 4\n",
    "Output: 12.75000\n",
    "Explanation: Maximum average is (12 - 5 - 6 + 50) / 4 = 51 / 4 = 12.75\n",
    "Example 2:\n",
    "\n",
    "Input: nums = [5], k = 1\n",
    "Output: 5.00000\n",
    " \n",
    "\n",
    "Constraints:\n",
    "\n",
    "n == nums.length\n",
    "1 <= k <= n <= 105\n",
    "-104 <= nums[i] <= 104\n"
   ]
  },
  {
   "cell_type": "code",
   "execution_count": 26,
   "metadata": {},
   "outputs": [
    {
     "name": "stdout",
     "output_type": "stream",
     "text": [
      "Initial Current Sum: 2\n",
      "Maximum average of subarray of size 4 is: 12.75\n"
     ]
    }
   ],
   "source": [
    "from typing import List\n",
    "\n",
    "class Solution:\n",
    "    def findMaxAverage(self, nums: List[int], k: int) -> float:\n",
    "        # Initialize the sum of the first window\n",
    "        left = 0\n",
    "        right = k - 1\n",
    "        current_sum = sum(nums[left:right+1])\n",
    "        print(f\"Initial Current Sum: {current_sum}\") #Printing test\n",
    "        max_sum = current_sum\n",
    "\n",
    "        # Slide the window using a while loop\n",
    "        while right < len(nums) - 1:\n",
    "            right += 1\n",
    "            current_sum = current_sum + (nums[right] - nums[left])\n",
    "            left += 1\n",
    "            if current_sum > max_sum:\n",
    "                max_sum = current_sum\n",
    "        \n",
    "        # Return the maximum average\n",
    "        return max_sum / k\n",
    "\n",
    "# Example usage\n",
    "solution = Solution()\n",
    "nums = [1, 12, -5, -6, 50, 3]\n",
    "k = 4\n",
    "result = solution.findMaxAverage(nums, k)\n",
    "print(\"Maximum average of subarray of size\", k, \"is:\", result)\n",
    "\n",
    "\n"
   ]
  },
  {
   "cell_type": "code",
   "execution_count": 29,
   "metadata": {},
   "outputs": [
    {
     "name": "stdout",
     "output_type": "stream",
     "text": [
      "Initial Current Sum: 2\n",
      "Maximum average of subarray of size 4 is: 12.75\n"
     ]
    }
   ],
   "source": [
    "from typing import List\n",
    "\n",
    "class Solution:\n",
    "    def findMaxAverage(self, nums: List[int], k: int) -> float:\n",
    "        # Initialize the sum of the first window\n",
    "        left = 0 #index 0 for left pointer\n",
    "        right = k - 1 #index k-1 for right pointer \n",
    "        current_sum = sum(nums[left:right + 1]) #calculate the current_sum intially for the first subarray\n",
    "        print(f\"Initial Current Sum: {current_sum}\") #Printing test\n",
    "        max_sum = current_sum\n",
    "\n",
    "        # Slide the window using a while loop\n",
    "        while right < len(nums) - 1:\n",
    "            right += 1 #move the right pointer by 1\n",
    "            left += 1 #move the left pointer by 1\n",
    "            current_sum = current_sum + (nums[right] - nums[left - 1])\n",
    "            if current_sum > max_sum:\n",
    "                max_sum = current_sum\n",
    "\n",
    "        # Return the maximum average\n",
    "        return max_sum / k\n",
    "\n",
    "# Example usage\n",
    "solution = Solution()\n",
    "nums = [1, 12, -5, -6, 50, 3]\n",
    "k = 4\n",
    "result = solution.findMaxAverage(nums, k)\n",
    "print(\"Maximum average of subarray of size\", k, \"is:\", result)\n",
    "\n",
    "'''\n",
    "Iterations\n",
    "initial: \n",
    "left = 0 (index)\n",
    "right = k - 1 = 4 - 1 = 3 (index)\n",
    "current_sum = sum(nums[left:right + 1]) = sum([1, 12, -5, -6]) = 2\n",
    "max_sum = current_sum -> 2\n",
    "\n",
    "while loop iterations:\n",
    "1. \n",
    "right += 1 -> right = 3 + 1 = 4 (index)\n",
    "left += 1 -> left = 0 + 1 = 1 (index)\n",
    "current_sum = current_sum + (nums[right] - nums[left - 1]) -> 2 + (50 - 1) = 2 + 49 = 51\n",
    "Since current_sum = 51, and it is greater than than max_sum, the max_sum now = current_sum which means max_sum = 51\n",
    "\n",
    "\n",
    "2. \n",
    "right += 1 -> right = 4 + 1 = 5 (index)\n",
    "left += 1 -> left = 1 + 1 = 2 (index)\n",
    "current_sum = current_sum + (nums[right] - nums[left - 1]) -> 51 + (3 - 12) = 51 + (-9) = 42 \n",
    "since current_sum = 42, and it is NOT greater than than max_sum, we ignore the if conditional \n",
    "'''\n"
   ]
  }
 ],
 "metadata": {
  "kernelspec": {
   "display_name": "Python 3",
   "language": "python",
   "name": "python3"
  },
  "language_info": {
   "codemirror_mode": {
    "name": "ipython",
    "version": 3
   },
   "file_extension": ".py",
   "mimetype": "text/x-python",
   "name": "python",
   "nbconvert_exporter": "python",
   "pygments_lexer": "ipython3",
   "version": "3.11.4"
  }
 },
 "nbformat": 4,
 "nbformat_minor": 2
}
