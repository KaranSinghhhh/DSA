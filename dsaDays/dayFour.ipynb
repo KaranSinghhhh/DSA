{
 "cells": [
  {
   "cell_type": "markdown",
   "metadata": {},
   "source": [
    "Day 4/100\n",
    "Stacks\n",
    "\n",
    "- Leetcode 20 - \"Valid Parentheses\"\n",
    "- Leetcode 2696 - \"Minimum string length after removing substrings\n",
    "- Leetcode 1047 - \"Remove all Adjacent Duplicates in a string\"\n",
    "- Leetcode 682 - \"Baseball Game\""
   ]
  },
  {
   "cell_type": "markdown",
   "metadata": {},
   "source": [
    "Important Facts About Stacks:\n",
    "- Stacks follow LIFO principle\n",
    "  LIFO (Last-In, First-Out): Imagine a stack of pancakes - the last pancake you put on top is the first one you take off\n",
    "- Core Operations:\n",
    "  push(item): Adds an item to the top of the stack.\n",
    "  pop(): Removes and returns the item at the top of the stack.\n",
    "  peek() / top(): Returns the item at the top of the stack without removing it.\n",
    "  isEmpty(): Checks if the stack is empty.\n",
    "  size(): Returns the number of items in the stack."
   ]
  },
  {
   "cell_type": "code",
   "execution_count": 1,
   "metadata": {},
   "outputs": [
    {
     "name": "stdout",
     "output_type": "stream",
     "text": [
      "pancake 3\n"
     ]
    }
   ],
   "source": [
    "stack = []  # Create an empty stack\n",
    "\n",
    "stack.append(\"pancake 1\")   # Push items\n",
    "stack.append(\"pancake 2\")\n",
    "stack.append(\"pancake 3\")\n",
    "\n",
    "top_item = stack.pop()  # Pop the top item\n",
    "print(top_item)  # Output: \"pancake 3\"\n"
   ]
  },
  {
   "cell_type": "code",
   "execution_count": null,
   "metadata": {},
   "outputs": [],
   "source": [
    "# Stacks Exercice\n",
    "'''\n",
    " Implement a function to check if a string of brackets/parentheses is balanced \n",
    " (e.g., \"({[]})\" is balanced, \"([)]\" is not)\n",
    "'''\n",
    "\n",
    "def is_balanced(expression):\n",
    "    stack = []  #Empty stack\n",
    "    matching = {\n",
    "        '(': ')', \n",
    "        '{': '}', \n",
    "        '[': ']'\n",
    "    }\n",
    "\n",
    "    for char in expression:\n",
    "        if char in matching: #Checks if the current char is a key within the matching dictionary\n",
    "            stack.append(char)\n",
    "        elif stack and matching[stack[-1]] == char:\n",
    "            stack.pop()\n",
    "        else:\n",
    "            return False\n",
    "        \n",
    "    return len(stack) == 0\n"
   ]
  },
  {
   "cell_type": "code",
   "execution_count": 4,
   "metadata": {},
   "outputs": [
    {
     "name": "stdout",
     "output_type": "stream",
     "text": [
      "True\n"
     ]
    },
    {
     "data": {
      "text/plain": [
       "'\\nExplaining the code for testCaseOne:\\n1. The first \"bracketType\" in string \"s\" is \"(\" within the for loop.\\n   If the bracketType \"(\" is one of the \"values\" in the \"Lookup\" dictionary,\\n   we append it to the stack, and in this case, it is a value in the lookup dictionary, \\n   so we append it to the stack.\\n   The Stack now equals [\"(\"].\\n\\n2. The second \"bracketType\" in string \"s\" is \")\" within the for loop.\\n   If the bracketType \")\" is one of the \"Values\" in the \"lookup\" dictionary,\\n   we append it to the stack, but in this case it is not a \"value\", and is instead a \"key\",\\n   so we move on to the elif statement.\\n   Within the elif statement, at this point, the stack != [] because our stack currently is [\"(\"], and the \\n   \"lookup[bracketType]\" for \"bracketType\" \")\" is \"(\" which does equal the last element (in this case the only element) in the stack \\n   that is [\")\"], we pop that value in the stack, the stack is now empty.\\n\\n*Steps 1 and 2 will repeat the same respectively for each bracketType left in string \"s\" and in the end, \\n there will be an empty stack left, so we can return True.\\n'"
      ]
     },
     "execution_count": 4,
     "metadata": {},
     "output_type": "execute_result"
    }
   ],
   "source": [
    "#Leetcode 20 - \"Valid Parentheses\"\n",
    "from typing import List\n",
    "class Solution:\n",
    "    def isValid(self, s: str) -> bool:\n",
    "        Lookup = {\n",
    "            \")\" : \"(\",\n",
    "            \"]\" : \"[\",\n",
    "            \"}\" : \"{\"\n",
    "        }\n",
    "\n",
    "        stack = []\n",
    "\n",
    "        #bracketType will loop through all the types of bracktypes in string \"s\"\n",
    "        for bracketType in s: \n",
    "            \n",
    "            #If the current bracketType is one of the values in \"Lookup\" dictionary, we append it to the stack\n",
    "            if bracketType in Lookup.values(): \n",
    "                stack.append(bracketType)\n",
    "            \n",
    "\n",
    "            #If the stack is not empty and the current \"bracketType\" in Lookup == the top value of the stack, we pop that value\n",
    "            elif stack != [] and Lookup[bracketType] == stack[-1]:\n",
    "                stack.pop()\n",
    "            else:\n",
    "                return False\n",
    "\n",
    "        if stack == []:\n",
    "            return True\n",
    "        \n",
    "testCaseOne = Solution()\n",
    "print(testCaseOne.isValid(s = \"()[]{}\")) #Will Return True\n",
    "\n",
    "'''\n",
    "Explaining the code for testCaseOne:\n",
    "1. The first \"bracketType\" in string \"s\" is \"(\" within the for loop.\n",
    "   Within the for loop, If the bracketType \"(\" is one of the \"Lookup.values\" in the \"Lookup\" dictionary,\n",
    "   we append it to the stack, and in this case, it is a value in the lookup dictionary, \n",
    "   so we can append it to the stack.\n",
    "   The Stack now equals [\"(\"].\n",
    "\n",
    "2. The second \"bracketType\" in string \"s\" is \")\" within the for loop.\n",
    "   Within the for loop, if the bracketType \")\" is one of the \"Lookup.values\" in the \"Lookup\" dictionary,\n",
    "   we append it to the stack, but in this case it is not a \"Lookup.values\", and is instead a \"key\" within the \"Lookup\" dictionary,\n",
    "   so we move on to the elif statement.\n",
    "   Within the elif statement, at this point, the stack != [] because our stack currently is [\"(\"], and the \n",
    "   \"lookup[bracketType]\" for \"bracketType\" \")\" is \"(\" which does equal the last element (in this case the only element) in the stack \n",
    "   that is [\")\"], we pop that element in the stack, the stack is now empty.\n",
    "\n",
    "*Steps 1 and 2 will repeat the same respectively for each bracketType left in string \"s\" and in the end, \n",
    " there will be an empty stack left, so we can return True.\n",
    "'''\n",
    "\n"
   ]
  },
  {
   "cell_type": "code",
   "execution_count": 2,
   "metadata": {},
   "outputs": [
    {
     "name": "stdout",
     "output_type": "stream",
     "text": [
      "(\n",
      "[\n",
      "{\n"
     ]
    }
   ],
   "source": [
    "Lookup = {\n",
    "            \")\" : \"(\",\n",
    "            \"]\" : \"[\",\n",
    "            \"}\" : \"{\"\n",
    "        }\n",
    "\n",
    "for bracketType in Lookup:\n",
    "    print(Lookup[bracketType])"
   ]
  },
  {
   "cell_type": "markdown",
   "metadata": {},
   "source": [
    "Leetcode 2696 - \"Minimum string length after removing substrings\n",
    "\n",
    "You are given a string s consisting only of uppercase English letters.\n",
    "\n",
    "You can apply some operations to this string where, in one operation, you can remove any occurrence of one of the substrings \"AB\" or \"CD\" from s.\n",
    "\n",
    "Return the minimum possible length of the resulting string that you can obtain.\n",
    "\n",
    "Note that the string concatenates after removing the substring and could produce new \"AB\" or \"CD\" substrings.\n",
    "\n",
    " \n",
    "\n",
    "Example 1:\n",
    "\n",
    "Input: s = \"ABFCACDB\"\n",
    "Output: 2\n",
    "Explanation: We can do the following operations:\n",
    "- Remove the substring \"ABFCACDB\", so s = \"FCACDB\".\n",
    "- Remove the substring \"FCACDB\", so s = \"FCAB\".\n",
    "- Remove the substring \"FCAB\", so s = \"FC\".\n",
    "So the resulting length of the string is 2.\n",
    "It can be shown that it is the minimum length that we can obtain.\n",
    "Example 2:\n",
    "\n",
    "Input: s = \"ACBBD\"\n",
    "Output: 5\n",
    "Explanation: We cannot do any operations on the string so the length remains the same.\n",
    " \n",
    "\n",
    "Constraints:\n",
    "\n",
    "1 <= s.length <= 100\n",
    "s consists only of uppercase English letters."
   ]
  },
  {
   "cell_type": "code",
   "execution_count": 1,
   "metadata": {},
   "outputs": [
    {
     "name": "stdout",
     "output_type": "stream",
     "text": [
      "Test case 1: 'ABFCACDB' -> 2\n",
      "Test case 2: 'ACBBD' -> 5\n"
     ]
    }
   ],
   "source": [
    "class Solution:\n",
    "    def minLength(self, s: str) -> int:\n",
    "        stack = []\n",
    "        \n",
    "        for letter in s:\n",
    "            if letter.isalpha():\n",
    "                # Checks if the character is an alphabet\n",
    "                #    Before popping, check if the stack is not empty and the last character meets the condition\n",
    "                if letter == \"B\" and stack != [] and stack[-1] == \"A\":\n",
    "                    stack.pop()\n",
    "                elif letter == \"D\" and stack != [] and stack[-1] == \"C\":\n",
    "                    stack.pop()\n",
    "                else:\n",
    "                    stack.append(letter)\n",
    "        \n",
    "        return len(stack)\n",
    "    \n",
    "solution = Solution()\n",
    "\n",
    "test_cases = [\n",
    "    \"ABFCACDB\",\n",
    "    \"ACBBD\"      \n",
    "]\n",
    "\n",
    "for i, test in enumerate(test_cases):\n",
    "    print(f\"Test case {i + 1}: '{test}' -> {solution.minLength(test)}\")\n",
    "\n",
    "\n",
    "\n",
    "                \n",
    "\n"
   ]
  },
  {
   "cell_type": "markdown",
   "metadata": {},
   "source": [
    "Leetcode 1047 - \"Remove All Adjacent Duplicates in a string\"\n",
    "\n",
    "You are given a string s consisting of lowercase English letters. A duplicate removal consists of choosing two adjacent and equal letters and removing them.\n",
    "\n",
    "We repeatedly make duplicate removals on s until we no longer can.\n",
    "\n",
    "Return the final string after all such duplicate removals have been made. It can be proven that the answer is unique.\n",
    "\n",
    " \n",
    "\n",
    "Example 1:\n",
    "\n",
    "Input: s = \"abbaca\"\n",
    "Output: \"ca\"\n",
    "Explanation: \n",
    "For example, in \"abbaca\" we could remove \"bb\" since the letters are adjacent and equal, and this is the only possible move.  The result of this move is that the string is \"aaca\", of which only \"aa\" is possible, so the final string is \"ca\".\n",
    "Example 2:\n",
    "\n",
    "Input: s = \"azxxzy\"\n",
    "Output: \"ay\"\n",
    " \n",
    "\n",
    "Constraints:\n",
    "\n",
    "1 <= s.length <= 105\n",
    "s consists of lowercase English letters."
   ]
  },
  {
   "cell_type": "code",
   "execution_count": 2,
   "metadata": {},
   "outputs": [
    {
     "name": "stdout",
     "output_type": "stream",
     "text": [
      "Test case 1: 'abbaca' -> ca\n",
      "Test case 2: 'ca' -> ca\n"
     ]
    }
   ],
   "source": [
    "\n",
    "\n",
    "class Solution:\n",
    "    def removeDuplicates(self, s: str) -> str:\n",
    "        stack = []\n",
    "\n",
    "        for letter in s:\n",
    "            if letter.islower():\n",
    "                if stack != [] and letter != stack[-1]:\n",
    "                    stack.append(letter)\n",
    "                elif stack != [] and letter == stack[-1]:\n",
    "                    stack.pop()\n",
    "\n",
    "                else:\n",
    "                    stack.append(letter)\n",
    "\n",
    "        return ''.join(char for char in stack)\n",
    "    \n",
    "solution = Solution()\n",
    "\n",
    "test_cases = [\n",
    "    \"abbaca\",\n",
    "    \"ca\"      \n",
    "]\n",
    "\n",
    "for i, test in enumerate(test_cases):\n",
    "    print(f\"Test case {i + 1}: '{test}' -> {solution.removeDuplicates(test)}\")\n"
   ]
  },
  {
   "cell_type": "markdown",
   "metadata": {},
   "source": [
    "Leetcode 682 - \"Baseball Game\"\n",
    "\n",
    "You are keeping the scores for a baseball game with strange rules. At the beginning of the game, you start with an empty record.\n",
    "\n",
    "You are given a list of strings operations, where operations[i] is the ith operation you must apply to the record and is one of the following:\n",
    "\n",
    "An integer x.\n",
    "Record a new score of x.\n",
    "'+'.\n",
    "Record a new score that is the sum of the previous two scores.\n",
    "'D'.\n",
    "Record a new score that is the double of the previous score.\n",
    "'C'.\n",
    "Invalidate the previous score, removing it from the record.\n",
    "Return the sum of all the scores on the record after applying all the operations.\n",
    "\n",
    "The test cases are generated such that the answer and all intermediate calculations fit in a 32-bit integer and that all operations are valid.\n",
    "\n",
    " \n",
    "\n",
    "Example 1:\n",
    "\n",
    "Input: ops = [\"5\",\"2\",\"C\",\"D\",\"+\"]\n",
    "Output: 30\n",
    "Explanation:\n",
    "\"5\" - Add 5 to the record, record is now [5].\n",
    "\"2\" - Add 2 to the record, record is now [5, 2].\n",
    "\"C\" - Invalidate and remove the previous score, record is now [5].\n",
    "\"D\" - Add 2 * 5 = 10 to the record, record is now [5, 10].\n",
    "\"+\" - Add 5 + 10 = 15 to the record, record is now [5, 10, 15].\n",
    "The total sum is 5 + 10 + 15 = 30.\n",
    "Example 2:\n",
    "\n",
    "Input: ops = [\"5\",\"-2\",\"4\",\"C\",\"D\",\"9\",\"+\",\"+\"]\n",
    "Output: 27\n",
    "Explanation:\n",
    "\"5\" - Add 5 to the record, record is now [5].\n",
    "\"-2\" - Add -2 to the record, record is now [5, -2].\n",
    "\"4\" - Add 4 to the record, record is now [5, -2, 4].\n",
    "\"C\" - Invalidate and remove the previous score, record is now [5, -2].\n",
    "\"D\" - Add 2 * -2 = -4 to the record, record is now [5, -2, -4].\n",
    "\"9\" - Add 9 to the record, record is now [5, -2, -4, 9].\n",
    "\"+\" - Add -4 + 9 = 5 to the record, record is now [5, -2, -4, 9, 5].\n",
    "\"+\" - Add 9 + 5 = 14 to the record, record is now [5, -2, -4, 9, 5, 14].\n",
    "The total sum is 5 + -2 + -4 + 9 + 5 + 14 = 27.\n",
    "Example 3:\n",
    "\n",
    "Input: ops = [\"1\",\"C\"]\n",
    "Output: 0\n",
    "Explanation:\n",
    "\"1\" - Add 1 to the record, record is now [1].\n",
    "\"C\" - Invalidate and remove the previous score, record is now [].\n",
    "Since the record is empty, the total sum is 0.\n",
    " \n",
    "\n",
    "Constraints:\n",
    "\n",
    "1 <= operations.length <= 1000\n",
    "operations[i] is \"C\", \"D\", \"+\", or a string representing an integer in the range [-3 * 104, 3 * 104].\n",
    "For operation \"+\", there will always be at least two previous scores on the record.\n",
    "For operations \"C\" and \"D\", there will always be at least one previous score on the record."
   ]
  },
  {
   "cell_type": "code",
   "execution_count": 4,
   "metadata": {},
   "outputs": [
    {
     "name": "stdout",
     "output_type": "stream",
     "text": [
      "Test case 1: '['5', '2', 'C', 'D', '+']' -> 30\n",
      "Test case 2: '['5', '-2', '4', 'C', 'D', '9', '+', '+']' -> 27\n",
      "Test case 3: '['1', 'C']' -> 0\n"
     ]
    }
   ],
   "source": [
    "from typing import List\n",
    "\n",
    "class Solution:\n",
    "    def calPoints(self, operations: List[str]) -> int:\n",
    "        stack = []\n",
    "        stack_sum = 0\n",
    "\n",
    "        for element in operations:\n",
    "            if element.isalnum() or element == \"+\" or \"-\" in element :\n",
    "                if stack != [] and element == \"C\":\n",
    "                    stack.pop()\n",
    "                elif stack != [] and element == \"D\":\n",
    "                    double = int(stack[-1] * 2)\n",
    "                    stack.append(double)\n",
    "                elif stack != [] and element == \"+\":\n",
    "                    plus = int(stack[-1]) + int(stack[-2])\n",
    "                    stack.append(plus)\n",
    "                else:\n",
    "                    stack.append(int(element))\n",
    "\n",
    "        stack_sum = sum(stack)\n",
    "        return stack_sum\n",
    "    \n",
    "solution = Solution()\n",
    "\n",
    "\n",
    "test_cases = [\n",
    "    [\"5\",\"2\",\"C\",\"D\",\"+\"],\n",
    "    [\"5\",\"-2\",\"4\",\"C\",\"D\",\"9\",\"+\",\"+\"],\n",
    "    [\"1\",\"C\"]\n",
    "]\n",
    "\n",
    "\n",
    "for i, test in enumerate(test_cases):\n",
    "    print(f\"Test case {i + 1}: '{test}' -> {solution.calPoints(test)}\")\n"
   ]
  }
 ],
 "metadata": {
  "kernelspec": {
   "display_name": "Python 3",
   "language": "python",
   "name": "python3"
  },
  "language_info": {
   "codemirror_mode": {
    "name": "ipython",
    "version": 3
   },
   "file_extension": ".py",
   "mimetype": "text/x-python",
   "name": "python",
   "nbconvert_exporter": "python",
   "pygments_lexer": "ipython3",
   "version": "3.11.4"
  }
 },
 "nbformat": 4,
 "nbformat_minor": 2
}
