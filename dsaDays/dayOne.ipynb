{
 "cells": [
  {
   "cell_type": "markdown",
   "metadata": {},
   "source": [
    "Day 1/100\n",
    "- Big O notation\n",
    "- Time and Space Complexity\n",
    "- Examples and Analysis of Time and Space Complexity"
   ]
  },
  {
   "cell_type": "markdown",
   "metadata": {},
   "source": [
    "Big O notation\n",
    "- Provides a standardized way to compare the efficiency of different algorithms in terms of their worst case performance.\n",
    "\n",
    "Common Big-O notations for Time Complexity:\n",
    "1. Constant Time Complexity: O(1) complexity\n",
    "   - The operation does not depend on the size of the input data \n",
    "   - There are no loops or recursive calls in the code that would cause the number of operations to scale  with the size of an input\n",
    "   - Directly accessing an item in a list for example would be O(1) time complexity \n",
    "2. Linear Time Complexity: O(n) complexity\n",
    "   - Proportional to the size of the input data. For example the n number of items in a list\n",
    "3. Logarithmic Time Complexity: O(log n) complexity\n",
    "   - Look at example\n",
    "4. Quadratic Time Complexity: O(n^2) complexity\n",
    "   - Look at example\n",
    "\n",
    "Space Complexity:\n",
    "- The space complexity of an algorithm is the total space (typically RAM) taken by the algorithm with respect to the input size.  \n",
    "\n",
    "\n"
   ]
  },
  {
   "cell_type": "markdown",
   "metadata": {},
   "source": [
    "Time Complexity:"
   ]
  },
  {
   "cell_type": "code",
   "execution_count": 1,
   "metadata": {},
   "outputs": [
    {
     "name": "stdout",
     "output_type": "stream",
     "text": [
      "mango\n",
      "banana\n"
     ]
    }
   ],
   "source": [
    "# O(1) also known as constant time:\n",
    "fruit = \"mango\" \n",
    "print(fruit)\n",
    "\n",
    "fruits = [\"apple\", \"banana\"]\n",
    "print(fruits[1])  #Directly accessing an item in a list is O(1) Time Complexity\n",
    "\n"
   ]
  },
  {
   "cell_type": "code",
   "execution_count": 3,
   "metadata": {},
   "outputs": [
    {
     "name": "stdout",
     "output_type": "stream",
     "text": [
      "Hello World\n",
      "Hello World\n",
      "Hello World\n",
      "Hello World\n",
      "Hello World\n",
      "Hello World\n",
      "Hello World\n",
      "Hello World\n"
     ]
    }
   ],
   "source": [
    "# O(n) also known as linear time \n",
    "n = 8  #If we increase n, it will take more time \n",
    "for i in range(n):\n",
    "    print(\"Hello World\") #Hello World is printed only n times "
   ]
  },
  {
   "cell_type": "code",
   "execution_count": 4,
   "metadata": {},
   "outputs": [
    {
     "name": "stdout",
     "output_type": "stream",
     "text": [
      "Hello world\n",
      "Hello world\n",
      "Hello world\n"
     ]
    }
   ],
   "source": [
    "# O(log n) also known as logarithmic time\n",
    "n = 8\n",
    "i = 2\n",
    "while i <= n:\n",
    "    print(\"Hello world\")\n",
    "    i *= 2 \n",
    "\n",
    "'''\n",
    "The Loop Begins with 'i' equal to 2.\n",
    "On each iteration, 'i' is doubled (i *=2)'.\n",
    "The loop continues as long as 'i' is less than or equal to 'n'.\n",
    "\n",
    "Doubling Factor: Each time through the loop, i is doubled. This means that the number of iterations needed \n",
    "to reach or exceed n is proportional to the logarithm of n, base 2. Specifically, the loop iterates \n",
    "approximately log(n), base 2 times.\n",
    "\n",
    "In this case: Log(8) base 2 = 3 which is why \"Hello World\" is printed out 3 times.\n",
    "'''\n",
    "\n"
   ]
  },
  {
   "cell_type": "code",
   "execution_count": 7,
   "metadata": {},
   "outputs": [
    {
     "name": "stdout",
     "output_type": "stream",
     "text": [
      "Hello World\n",
      "Hello World\n",
      "Hello World\n",
      "Hello World\n",
      "Hello World\n",
      "Hello World\n",
      "Hello World\n",
      "Hello World\n",
      "Hello World\n"
     ]
    }
   ],
   "source": [
    "#O(n^2) also known as quadratic time\n",
    "n = 3\n",
    "for i in range(n):\n",
    "    for j in range(n):\n",
    "        print(\"Hello World\")\n",
    "\n",
    "'''\n",
    "Two Nested Loops: The outer loop runs n times, where n is the size of the input. \n",
    "For each iteration of the outer loop, the inner loop also runs n times. \n",
    "In this case: 3 * 3 = 9 which is why \"Hello World\" is printed 9 times.\n",
    "\n",
    "Total Operations: Because the inner loop runs n times for each of the n iterations of the outer loop, \n",
    "the total number of iterations (and hence the total number of print statements executed) is n * n = n^2\n",
    "'''"
   ]
  },
  {
   "cell_type": "markdown",
   "metadata": {},
   "source": [
    "Space Complexity:"
   ]
  },
  {
   "cell_type": "code",
   "execution_count": null,
   "metadata": {},
   "outputs": [],
   "source": [
    "#O(1) Space complexity also known as constant time\n",
    "\n",
    "fruit = \"mango\" \n",
    "print(fruit)\n",
    "\n",
    "fruits = [\"apple\", \"banana\"]\n",
    "print(fruits[1])\n",
    "\n",
    "'''\n",
    "1. Variable Assignment:\n",
    "fruit = \"mango\": This line of code assigns a string to the variable fruit. The size of the string \"mango\" \n",
    "is fixed and does not depend on any input size. Therefore, it contributes a constant amount of space.\n",
    "fruits = [\"apple\", \"banana\"]: This line initializes a list with two fixed strings. The list and its contents \n",
    "are predetermined and do not scale with any variable input size.\n",
    "\n",
    "2. Operation:\n",
    "print(fruit) and print(fruits[1]): These print operations do not require additional space that scales with \n",
    "input size. They simply output the value of existing variables.\n",
    "\n",
    "3. No Input-Dependent Data Structures:\n",
    "All data used (a single string and a list with two strings) are fixed and predefined. There are no data \n",
    "structures or storage used that would grow based on an input parameter that could change.\n",
    "'''\n",
    "\n",
    "n = 8  \n",
    "for i in range(n):\n",
    "    print(\"Hello World\") \n",
    "\n",
    "'''\n",
    "1. Fixed Space: The space used is fixed for storing the loop counter i. No additional space is created that \n",
    "grows with the size of n.\n",
    "\n",
    "2. Constant Space Complexity: Since the amount of memory required does not increase with the size of n and \n",
    "remains constant, the space complexity is O(1).\n",
    "'''"
   ]
  },
  {
   "cell_type": "code",
   "execution_count": 31,
   "metadata": {},
   "outputs": [
    {
     "name": "stdout",
     "output_type": "stream",
     "text": [
      "[1, 4, 9, 16, 25]\n"
     ]
    }
   ],
   "source": [
    "#O(n) Space complexity also known as linear time\n",
    "def square_elements(nums):\n",
    "    # Creates a new list where each element is the square of the corresponding element in the input list\n",
    "    squared_nums = [num ** 2 for num in nums]\n",
    "    return squared_nums\n",
    "original_nums = [1, 2, 3, 4, 5]\n",
    "result = square_elements(original_nums)\n",
    "print(result)  \n",
    "\n",
    "'''\n",
    "1. New List Creation: The list squared_nums is created to store the squared values of each element in the input \n",
    "list nums. The size of squared_nums is directly proportional to the size of nums.\n",
    "\n",
    "2. Linear Growth: As the size of the input list nums grows, the size of squared_nums grows linearly with it. \n",
    "If nums contains n elements, then squared_nums will also contain n elements.\n",
    "\n",
    "3. Space Complexity: The space used by the function is primarily for storing the squared_nums list, which has \n",
    "the same number of elements as the input list nums. Thus, the space complexity of the function is O(n), where n is the number of elements in the input list nums.\n",
    "'''\n",
    "  \n"
   ]
  },
  {
   "cell_type": "code",
   "execution_count": 25,
   "metadata": {},
   "outputs": [
    {
     "name": "stdout",
     "output_type": "stream",
     "text": [
      "[]\n"
     ]
    }
   ],
   "source": [
    "\n"
   ]
  }
 ],
 "metadata": {
  "kernelspec": {
   "display_name": "Python 3",
   "language": "python",
   "name": "python3"
  },
  "language_info": {
   "codemirror_mode": {
    "name": "ipython",
    "version": 3
   },
   "file_extension": ".py",
   "mimetype": "text/x-python",
   "name": "python",
   "nbconvert_exporter": "python",
   "pygments_lexer": "ipython3",
   "version": "3.11.4"
  }
 },
 "nbformat": 4,
 "nbformat_minor": 2
}
