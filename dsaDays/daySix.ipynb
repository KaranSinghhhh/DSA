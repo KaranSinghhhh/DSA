{
 "cells": [
  {
   "cell_type": "markdown",
   "metadata": {},
   "source": [
    "Day 6/100\n",
    "- Linked Lists (singly)"
   ]
  },
  {
   "cell_type": "markdown",
   "metadata": {},
   "source": [
    "- Linked Lists (singly)\n",
    "- Data Structure with Nodes: A linked list is a data structure composed of a series of nodes.\n",
    "- Node Composition: Each node contains two parts: data and an address (pointer) to the next node.\n",
    "- Pointer to Next Node: Each node has an address pointing to the next node in the sequence.\n",
    "- Non-Contiguous Memory: Nodes are stored in non-contiguous memory locations.\n",
    "- Knowledge of Next Node: Each node knows where the next node is located.\n",
    "- Head and Tail: The first node is called the head, and the last node is called the tail.\n",
    "- Head Node: The head node contains data and a pointer to the next node.\n",
    "- Tail Node: The tail node contains data but has a null pointer, indicating the end of the list.\n",
    "\n",
    "[\"A\"][Address]->[\"B\"][Address]->[\"C\"][Address]->[\"D\"][Address]->[\"E\"][Null]"
   ]
  },
  {
   "cell_type": "markdown",
   "metadata": {},
   "source": [
    "- Time Complexity: Searching a linked list itself takes O(n) time. \n",
    "- Space Complexity: Inserting a node or deleting a node takes O(1) time"
   ]
  },
  {
   "cell_type": "markdown",
   "metadata": {},
   "source": [
    "Linked List vs. Arrays\n",
    "- No Indexing: Linked lists do not have indices like arrays.\n",
    "- Searching: Linked Lists are bad at searching because they have no indexing, to locate an element, you have to start at the head and work your way towards the tail. \n"
   ]
  },
  {
   "cell_type": "markdown",
   "metadata": {},
   "source": [
    "Operations:\n",
    "get_size()\n",
    "find(data)\n",
    "add(data)\n",
    "remove(data)"
   ]
  },
  {
   "cell_type": "code",
   "execution_count": 1,
   "metadata": {},
   "outputs": [
    {
     "name": "stdout",
     "output_type": "stream",
     "text": [
      "D -> A -> B -> C -> None\n",
      "D -> A -> C -> None\n",
      "True\n",
      "False\n"
     ]
    }
   ],
   "source": [
    "#Writing a linked list:\n",
    "class Node:\n",
    "    def __init__(self, data):\n",
    "        self.data = data  # Initialize the node with data\n",
    "        self.next = None  # Initialize the next pointer as None\n",
    "\n",
    "class LinkedList:\n",
    "    def __init__(self):\n",
    "        self.head = None  # Initialize the linked list with head set to None\n",
    "\n",
    "    def append(self, data):\n",
    "        new_node = Node(data)  # Create a new node with the given data\n",
    "        if not self.head:\n",
    "            self.head = new_node  # If the list is empty, set the new node as the head\n",
    "            return\n",
    "        last_node = self.head  # Start at the head node\n",
    "        while last_node.next:\n",
    "            last_node = last_node.next  # Traverse to the end of the list\n",
    "        last_node.next = new_node  # Set the next pointer of the last node to the new node\n",
    "\n",
    "    def prepend(self, data):\n",
    "        new_node = Node(data)  # Create a new node with the given data\n",
    "        new_node.next = self.head  # Set the next pointer of the new node to the current head\n",
    "        self.head = new_node  # Set the new node as the head of the list\n",
    "\n",
    "    def delete_with_value(self, data):\n",
    "        if not self.head:\n",
    "            return  # If the list is empty, do nothing\n",
    "        if self.head.data == data:\n",
    "            self.head = self.head.next  # If the head node contains the data, remove it\n",
    "            return\n",
    "        current_node = self.head  # Start at the head node\n",
    "        while current_node.next and current_node.next.data != data:\n",
    "            current_node = current_node.next  # Traverse the list to find the node to delete\n",
    "        if current_node.next:\n",
    "            current_node.next = current_node.next.next  # Remove the node by updating the next pointer\n",
    "\n",
    "    def find(self, data):\n",
    "        current_node = self.head  # Start at the head node\n",
    "        while current_node:\n",
    "            if current_node.data == data:\n",
    "                return True  # If the node contains the data, return True\n",
    "            current_node = current_node.next  # Move to the next node\n",
    "        return False  # If the data is not found, return False\n",
    "\n",
    "    def print_list(self):\n",
    "        current_node = self.head  # Start at the head node\n",
    "        while current_node:\n",
    "            print(current_node.data, end=\" -> \")  # Print the data of each node\n",
    "            current_node = current_node.next  # Move to the next node\n",
    "        print(\"None\")  # Indicate the end of the list\n",
    "\n",
    "# Example usage\n",
    "ll = LinkedList()  # Create a new linked list\n",
    "ll.append(\"A\")  # Append node with data \"A\"\n",
    "ll.append(\"B\")  # Append node with data \"B\"\n",
    "ll.append(\"C\")  # Append node with data \"C\"\n",
    "ll.prepend(\"D\")  # Prepend node with data \"D\"\n",
    "ll.print_list()  # Output: D -> A -> B -> C -> None\n",
    "ll.delete_with_value(\"B\")  # Delete node with data \"B\"\n",
    "ll.print_list()  # Output: D -> A -> C -> None\n",
    "print(ll.find(\"C\"))  # Output: True\n",
    "print(ll.find(\"B\"))  # Output: False\n",
    "\n",
    "\n",
    "\n",
    "            "
   ]
  }
 ],
 "metadata": {
  "kernelspec": {
   "display_name": "Python 3",
   "language": "python",
   "name": "python3"
  },
  "language_info": {
   "codemirror_mode": {
    "name": "ipython",
    "version": 3
   },
   "file_extension": ".py",
   "mimetype": "text/x-python",
   "name": "python",
   "nbconvert_exporter": "python",
   "pygments_lexer": "ipython3",
   "version": "3.11.4"
  }
 },
 "nbformat": 4,
 "nbformat_minor": 2
}
