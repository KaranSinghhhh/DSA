{
 "cells": [
  {
   "cell_type": "markdown",
   "metadata": {},
   "source": [
    "Day 3/100\n",
    "Two Pointers \n",
    "\n",
    "- Leetcode 977 - \"Squares of a sorted array\" \n",
    "- Leetcode 125 - \"Valid Palindrome\" \n",
    "- Leetcode 344 - \"Reverse String\"\n",
    "\n"
   ]
  },
  {
   "cell_type": "code",
   "execution_count": 2,
   "metadata": {},
   "outputs": [],
   "source": [
    "from typing import List\n",
    "class Solution:\n",
    "    def sortedSquares(self, nums: List[int]) -> List[int]:\n",
    "        sol = []\n",
    "\n",
    "        l = 0\n",
    "        r = len(nums) - 1\n",
    "\n",
    "        while l <= r:\n",
    "            if nums[l]**2 < nums[r]**2:\n",
    "                sol.append(nums[l]**2)\n",
    "            else:\n",
    "                sol.append(nums[r]**2)\n",
    "\n",
    "        return sol\n"
   ]
  },
  {
   "cell_type": "markdown",
   "metadata": {},
   "source": [
    "Leetcode 125 - \"Valid Palindrome\"\n",
    "\n",
    "A phrase is a palindrome if, after converting all uppercase letters into lowercase letters and removing all non-alphanumeric characters, it reads the same forward and backward. Alphanumeric characters include letters and numbers.\n",
    "\n",
    "Given a string s, return true if it is a palindrome, or false otherwise.\n",
    "\n",
    " \n",
    "\n",
    "Example 1:\n",
    "\n",
    "Input: s = \"A man, a plan, a canal: Panama\"\n",
    "Output: true\n",
    "Explanation: \"amanaplanacanalpanama\" is a palindrome.\n",
    "Example 2:\n",
    "\n",
    "Input: s = \"race a car\"\n",
    "Output: false\n",
    "Explanation: \"raceacar\" is not a palindrome.\n",
    "Example 3:\n",
    "\n",
    "Input: s = \" \"\n",
    "Output: true\n",
    "Explanation: s is an empty string \"\" after removing non-alphanumeric characters.\n",
    "Since an empty string reads the same forward and backward, it is a palindrome.\n",
    " \n",
    "\n",
    "Constraints:\n",
    "\n",
    "1 <= s.length <= 2 * 105\n",
    "s consists only of printable ASCII characters."
   ]
  },
  {
   "cell_type": "code",
   "execution_count": 2,
   "metadata": {},
   "outputs": [
    {
     "name": "stdout",
     "output_type": "stream",
     "text": [
      "['a', 'm', 'a', 'n', 'a', 'p', 'l', 'a', 'n', 'a', 'c', 'a', 'n', 'a', 'l', 'p', 'a', 'n', 'a', 'm', 'a']\n",
      "Test case 1: 'A man, a plan, a canal: Panama' -> True\n",
      "['r', 'a', 'c', 'e', 'a', 'c', 'a', 'r']\n",
      "Test case 2: 'race a car' -> False\n",
      "['0', 'p']\n",
      "Test case 3: '0P' -> False\n",
      "[]\n",
      "Test case 4: ' ' -> True\n",
      "['a', 'b', 'b', 'a']\n",
      "Test case 5: 'abba' -> True\n",
      "['a', 'b', 'l', 'e', 'w', 'a', 's', 'i', 'e', 'r', 'e', 'i', 's', 'a', 'w', 'e', 'l', 'b', 'a']\n",
      "Test case 6: 'Able was I ere I saw Elba' -> True\n"
     ]
    }
   ],
   "source": [
    "from typing import List\n",
    "class Solution:\n",
    "    def isPalindrome(self, s: str) -> bool:\n",
    "        lst = [char.lower() for char in s if char.isalnum()]\n",
    "        print(lst)\n",
    "\n",
    "        l = 0\n",
    "        r = len(lst)-1\n",
    "\n",
    "        while l <= r:\n",
    "            if lst[l] == lst[r]:\n",
    "                l += 1\n",
    "                r -= 1\n",
    "            else:\n",
    "                return False\n",
    "        return True\n",
    "    \n",
    "solution = Solution()\n",
    "\n",
    "test_cases = [\n",
    "    \"A man, a plan, a canal: Panama\",  # Should return True\n",
    "    \"race a car\",                      # Should return False\n",
    "    \"0P\",                              # Should return False\n",
    "    \" \",                               # Should return True\n",
    "    \"abba\",                            # Should return True\n",
    "    \"Able was I ere I saw Elba\",       # Should return True\n",
    "]\n",
    "\n",
    "for i, test in enumerate(test_cases):\n",
    "    print(f\"Test case {i + 1}: '{test}' -> {solution.isPalindrome(test)}\")\n",
    "\n"
   ]
  },
  {
   "cell_type": "markdown",
   "metadata": {},
   "source": [
    "Leetcode 344 - \"Reverse String\"\n",
    "Write a function that reverses a string. The input string is given as an array of characters s.\n",
    "\n",
    "You must do this by modifying the input array in-place with O(1) extra memory.\n",
    "\n",
    " Example 1:\n",
    "\n",
    "Input: s = [\"h\",\"e\",\"l\",\"l\",\"o\"]\n",
    "Output: [\"o\",\"l\",\"l\",\"e\",\"h\"]\n",
    "\n",
    "Example 2:\n",
    "\n",
    "Input: s = [\"H\",\"a\",\"n\",\"n\",\"a\",\"h\"]\n",
    "Output: [\"h\",\"a\",\"n\",\"n\",\"a\",\"H\"]\n",
    " \n",
    "\n",
    "Constraints:\n",
    "\n",
    "1 <= s.length <= 105\n",
    "s[i] is a printable ascii character.\n"
   ]
  },
  {
   "cell_type": "code",
   "execution_count": null,
   "metadata": {},
   "outputs": [],
   "source": [
    "class Solution:\n",
    "    def reverseString(self, s: List[str]) -> None:\n",
    "        \"\"\"\n",
    "        Do not return anything, modify s in-place instead.\n",
    "        \"\"\"\n",
    "        \n",
    "        l = 0\n",
    "        r = len(s) - 1\n",
    "\n",
    "        while l < r:\n",
    "            s[l], s[r] = s[r], s[l]\n",
    "            l += 1\n",
    "            r -= 1 \n",
    "\n"
   ]
  },
  {
   "cell_type": "markdown",
   "metadata": {},
   "source": [
    "Leetcode 345 \"Reverse Vowels of a String\"\n",
    "Given a string s, reverse only all the vowels in the string and return it.\n",
    "\n",
    "The vowels are 'a', 'e', 'i', 'o', and 'u', and they can appear in both lower and upper cases, more than once.\n",
    "\n",
    " \n",
    "\n",
    "Example 1:\n",
    "\n",
    "Input: s = \"hello\"\n",
    "Output: \"holle\"\n",
    "Example 2:\n",
    "\n",
    "Input: s = \"leetcode\"\n",
    "Output: \"leotcede\"\n",
    " \n",
    "\n",
    "Constraints:\n",
    "\n",
    "1 <= s.length <= 3 * 105\n",
    "s consist of printable ASCII characters."
   ]
  },
  {
   "cell_type": "code",
   "execution_count": 3,
   "metadata": {},
   "outputs": [
    {
     "name": "stdout",
     "output_type": "stream",
     "text": [
      "Test case 1: 'hello' -> 'holle'\n",
      "Test case 2: 'leetcode' -> 'leotcede'\n",
      "Test case 3: 'aA' -> 'Aa'\n",
      "Test case 4: 'aeiou' -> 'uoiea'\n",
      "Test case 5: 'racecar' -> 'racecar'\n"
     ]
    }
   ],
   "source": [
    "class Solution:\n",
    "    def reverseVowels(self, s: str) -> str:\n",
    "        vowels = ['a', 'e', 'i', 'o', 'u','A', 'E', 'I', 'O', 'U' ]\n",
    "        s = list(s)\n",
    "        \n",
    "        l = 0\n",
    "        r = len(s) - 1\n",
    "\n",
    "        while l < r:\n",
    "            if s[l] not in vowels and s[r] not in vowels:\n",
    "                l += 1\n",
    "                r -= 1\n",
    "            elif s[l] in vowels and s[r] not in vowels:\n",
    "                r -= 1\n",
    "            elif s[l] not in vowels and s[r] in vowels:    \n",
    "                l += 1\n",
    "            else:\n",
    "                s[l], s[r] = s[r], s[l]\n",
    "                l += 1\n",
    "                r -=1\n",
    "        return ''.join(s)\n",
    "            \n",
    "\n",
    "solution = Solution()\n",
    "\n",
    "# Define test cases\n",
    "test_cases = [\n",
    "    \"hello\",    # Should return \"holle\"\n",
    "    \"leetcode\", # Should return \"leotcede\"\n",
    "    \"aA\",       # Should return \"Aa\"\n",
    "    \"aeiou\",    # Should return \"uoiea\"\n",
    "    \"racecar\"   # Should return \"racecar\" (no vowel change in this specific test case)\n",
    "]\n",
    "\n",
    "# Test the method with the test cases\n",
    "for i, test in enumerate(test_cases):\n",
    "    print(f\"Test case {i + 1}: '{test}' -> '{solution.reverseVowels(test)}'\")\n",
    "\n"
   ]
  }
 ],
 "metadata": {
  "kernelspec": {
   "display_name": "Python 3",
   "language": "python",
   "name": "python3"
  },
  "language_info": {
   "codemirror_mode": {
    "name": "ipython",
    "version": 3
   },
   "file_extension": ".py",
   "mimetype": "text/x-python",
   "name": "python",
   "nbconvert_exporter": "python",
   "pygments_lexer": "ipython3",
   "version": "3.11.4"
  }
 },
 "nbformat": 4,
 "nbformat_minor": 2
}
