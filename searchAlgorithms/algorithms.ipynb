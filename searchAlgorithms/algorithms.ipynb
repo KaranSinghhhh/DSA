{
 "cells": [
  {
   "cell_type": "markdown",
   "id": "e33b2565",
   "metadata": {},
   "source": [
    "Factorials Refresher"
   ]
  },
  {
   "cell_type": "code",
   "execution_count": null,
   "id": "565e595e",
   "metadata": {},
   "outputs": [],
   "source": [
    "# Example:\n",
    "# The factorial of the number 5 is: 120\n",
    "# How? 5 * 4 * 3 * 2 * 1 = 120\n",
    "# Factorial formula for n = 5 is: \n",
    "# n! = (n-0) * (n-1) * (n-2) * (n-3) * (n-4)\n",
    "# 120 = (5-0) * (5-1) * (5-2) * (5-3) * (5-4) \n",
    "\n",
    "# Writing a iterative factorial Prgram *Using a For Loop*:\n",
    "def iterative_factorial(n):\n",
    "    factorial = 1\n",
    "    for i in range(2, n + 1): # If n = 5, n + 1 = 6 but it will stop at 5 in the range\n",
    "        factorial = factorial*i # 2 * 3 * 4 * 5 = 120\n",
    "    return factorial\n",
    "print(iterative_factorial(5))\n",
    "\n",
    "#Writing a recursion factorial program:\n",
    "def recursive_factorial(n):\n",
    "    if n == 1:\n",
    "        return n\n",
    "    else: \n",
    "        temp = recursive_factorial(n-1)\n",
    "        temp = temp * n\n",
    "    return temp\n",
    "print(recursive_factorial(5))\n",
    "\n",
    "# The iterative factorial method is faster than the recursion factorial method\n",
    "\n"
   ]
  },
  {
   "cell_type": "markdown",
   "id": "eefe6e5c",
   "metadata": {},
   "source": [
    "Permutations"
   ]
  },
  {
   "cell_type": "code",
   "execution_count": null,
   "id": "cb716eaa",
   "metadata": {},
   "outputs": [],
   "source": [
    "\n",
    "def permute(string, pocket=\"\"):\n",
    "    if len(string) == 0:\n",
    "        print(pocket)\n",
    "    else:\n",
    "        for i in range(len(string)):\n",
    "            letter = string[i]\n",
    "            front = string[0:i]\n",
    "            back = string[i+1:]\n",
    "            together = font + back\n",
    "            permute(together, letter + pocket)\n",
    "print(permute(\"ABC\", \"\"))\n"
   ]
  },
  {
   "cell_type": "markdown",
   "id": "1e0ea0af",
   "metadata": {},
   "source": [
    "Data Structures\n",
    "\n",
    "One Dimensional Array: A = [1,2,3,4,5,6,7,8,9]\n"
   ]
  },
  {
   "cell_type": "code",
   "execution_count": null,
   "id": "6f8454d3",
   "metadata": {},
   "outputs": [],
   "source": [
    "# Linear Search\n",
    "# Very time consuming and inefficient for a large array\n",
    "# Has O(n) complexity time\n",
    "\n",
    "def linear_search(arr, target):\n",
    "    for i in range(len(arr)):\n",
    "        if arr[i] == target:\n",
    "            return i\n",
    "        \n",
    "arr = [2,5,8,9,10,16,22]\n",
    "target = 10\n",
    "print(linear_search(arr,target))"
   ]
  },
  {
   "cell_type": "code",
   "execution_count": null,
   "id": "b6d1ddd5",
   "metadata": {},
   "outputs": [],
   "source": [
    "'''\n",
    "Binary Search\n",
    "\n",
    "Can only be done on sorted arrays\n",
    "In this search algorithm, we create 2 pointers:\n",
    "and repeatedly divide the search interval by half.\n",
    "We also check if in every iteration, the middle element\n",
    "equals the target, and return it if it does.\n",
    "If the target value is less than the middle element,\n",
    "we search in the lower half of the array.\n",
    "If the target value is greater than the middle element, \n",
    "we search in the upper half of the array\n",
    "\n",
    "*This algorithm has O(log(n)) complexity time\n",
    "'''\n",
    "\n",
    "def binary_search(arr, target):\n",
    "    low = 0\n",
    "    high = len(arr) - 1 #Index of the last element in the arr\n",
    "    \n",
    "    while low <= high:\n",
    "        mid = (low + high) // 2 #Use integer division \n",
    "        guess = arr[mid]\n",
    "        \n",
    "        if guess == target:     #The guess equals the target for this test case\n",
    "            return mid\n",
    "        elif guess < target:    #The guess was less than the target\n",
    "            low = mid + 1 \n",
    "        else:                   #The guess was higher than the target\n",
    "            high = mid - 1\n",
    "    return None                 #The target does not exist \n",
    "\n",
    "arr = [2,5,8,10,16,22,25]\n",
    "target = 10\n",
    "\n",
    "print(binary_search(arr, target))"
   ]
  },
  {
   "cell_type": "code",
   "execution_count": null,
   "id": "72a7dff2",
   "metadata": {},
   "outputs": [],
   "source": [
    "'''\n",
    "Bubble Sort\n",
    "*This algorithm has O(n^2) worst-case time complexity\n",
    "*This algorthm has O(n) bets-case time complexity meaning the array is already sorted\n",
    "\n",
    "The outer loop controls how many times the array is passed over.\n",
    "The inner loop does the actual comparisons and potential swaps between adjacent elements.\n",
    "'''\n",
    "\n",
    "\n",
    "def bubble_sort(arr):\n",
    "    iterations = 0\n",
    "    for i in range(len(arr)):  #Outter Loop: Length of arr is 5\n",
    "        for j in range(len(arr)-i-1): #Inner Loop: (5 - 0 - 1)\n",
    "            iterations = iterations + 1\n",
    "            if arr[j] > arr[j+1]: #In the first iteration 7 and 2 get compared\n",
    "                arr[j], arr[j+1] = arr[j+1], arr[j]\n",
    "    return arr, iterations\n",
    "\n",
    "arr = [7, 2, 9, 6, 4]\n",
    "print(bubble_sort(arr))\n",
    "\n",
    "\n",
    "\n"
   ]
  },
  {
   "cell_type": "code",
   "execution_count": 4,
   "id": "60b00c81",
   "metadata": {},
   "outputs": [
    {
     "name": "stdout",
     "output_type": "stream",
     "text": [
      "[1, 2, 3, 4, 5, 6]\n"
     ]
    }
   ],
   "source": [
    "'''\n",
    "Insertion Sort\n",
    "- Still pretty inefficient on large arrays\n",
    "- Performs well on sorted arrays\n",
    "- Does not require much space meaning it can be done in-place\n",
    "- Concept of insertion sort is to split the array into sorted and unsorted parts\n",
    "\n",
    "* Time complexity is O(n^2)\n",
    "'''\n",
    "\n",
    "def insertion_sort(arr):\n",
    "    for j in range(1, len(arr)): #Range will be index 1 until last index\n",
    "        key = arr[j] #The Key is the current item at arr[j] which will start off with 1\n",
    "        i = j - 1  #\n",
    "        while i >= 0 and arr[i] > key:\n",
    "            arr[i + 1] = arr[i]\n",
    "            i = i - 1\n",
    "        arr[i + 1] = key\n",
    "    return arr\n",
    "        \n",
    "arr = [5, 2, 4, 6, 1, 3]\n",
    "print(insertion_sort(arr))  \n",
    " \n",
    "\n"
   ]
  },
  {
   "cell_type": "code",
   "execution_count": null,
   "id": "df563656",
   "metadata": {},
   "outputs": [],
   "source": []
  }
 ],
 "metadata": {
  "kernelspec": {
   "display_name": "Python 3 (ipykernel)",
   "language": "python",
   "name": "python3"
  },
  "language_info": {
   "codemirror_mode": {
    "name": "ipython",
    "version": 3
   },
   "file_extension": ".py",
   "mimetype": "text/x-python",
   "name": "python",
   "nbconvert_exporter": "python",
   "pygments_lexer": "ipython3",
   "version": "3.11.5"
  }
 },
 "nbformat": 4,
 "nbformat_minor": 5
}
