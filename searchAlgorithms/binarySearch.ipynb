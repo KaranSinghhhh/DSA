{
 "cells": [
  {
   "cell_type": "code",
   "execution_count": 6,
   "metadata": {},
   "outputs": [
    {
     "name": "stdout",
     "output_type": "stream",
     "text": [
      "Target found at index:  7\n"
     ]
    },
    {
     "data": {
      "text/plain": [
       "'\\nIterations:\\nlist = [1,2,3,4,5,6,7,8,9,10]\\n1. first = 0(index) and last = 9(index). midpoint = 0+9//2 = 4(index). element at midpoint < target, so we ignore bottom half of list\\n2. first = 5(index) and last = 9(index). midpoint = 5+9//2 = 7(index). element at midpoint == target, we we return the index \\n'"
      ]
     },
     "execution_count": 6,
     "metadata": {},
     "output_type": "execute_result"
    }
   ],
   "source": [
    "#Binary Search\n",
    "\n",
    "def binarySearch(list, target):\n",
    "    first = 0\n",
    "    last = len(list) - 1\n",
    "\n",
    "    while first <= last:\n",
    "        midpoint = (first + last)//2 #Floor division to round down to nearest whole number to get index of midpoint\n",
    "\n",
    "        if list[midpoint] == target:\n",
    "            return midpoint #Returns the index of midpoint and this is best case scenario\n",
    "        elif list[midpoint] < target:\n",
    "            first = midpoint + 1\n",
    "        else: \n",
    "            last = midpoint - 1\n",
    "    return None\n",
    "\n",
    "def verifyBinarySearch(index):\n",
    "    if index is not None:\n",
    "        print(\"Target found at index: \", index)\n",
    "    else:\n",
    "        print(\"Target not found in list\")\n",
    "\n",
    "list = [1,2,3,4,5,6,7,8,9,10]\n",
    "target = 8\n",
    "\n",
    "result = binarySearch(list, target)\n",
    "verifyBinarySearch(result)\n",
    "\n",
    "'''\n",
    "Iterations:\n",
    "list = [1,2,3,4,5,6,7,8,9,10]\n",
    "1. first = 0(index) and last = 9(index). midpoint = 0+9//2 = 4(index). element at midpoint < target, so we ignore bottom half of list\n",
    "2. first = 5(index) and last = 9(index). midpoint = 5+9//2 = 7(index). element at midpoint == target, we we return the index which is 7 \n",
    "'''"
   ]
  }
 ],
 "metadata": {
  "kernelspec": {
   "display_name": "Python 3",
   "language": "python",
   "name": "python3"
  },
  "language_info": {
   "codemirror_mode": {
    "name": "ipython",
    "version": 3
   },
   "file_extension": ".py",
   "mimetype": "text/x-python",
   "name": "python",
   "nbconvert_exporter": "python",
   "pygments_lexer": "ipython3",
   "version": "3.11.4"
  }
 },
 "nbformat": 4,
 "nbformat_minor": 2
}
