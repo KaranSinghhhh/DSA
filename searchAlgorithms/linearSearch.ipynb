{
 "cells": [
  {
   "cell_type": "code",
   "execution_count": 24,
   "metadata": {},
   "outputs": [
    {
     "name": "stdout",
     "output_type": "stream",
     "text": [
      "Target found at index:  5\n"
     ]
    }
   ],
   "source": [
    "#Linear Search\n",
    "\n",
    "def linearSearch(list, target):\n",
    "    for i in range(0, len(list)): #len(list) is 6 but it does not count up until 6(end value), it stops at 5\n",
    "        if list[i] == target:\n",
    "            return i\n",
    "    return None\n",
    "\n",
    "def verifyLinearSearch(index):\n",
    "    if index is not None:\n",
    "        print(\"Target found at index: \", index)\n",
    "    else:\n",
    "        print(\"Target not found in list\")\n",
    "    \n",
    "list = [1,2,3,4,8,10]\n",
    "target = 10\n",
    "\n",
    "result = linearSearch(list, target)\n",
    "verifyLinearSearch(result)"
   ]
  },
  {
   "cell_type": "code",
   "execution_count": null,
   "metadata": {},
   "outputs": [],
   "source": []
  }
 ],
 "metadata": {
  "kernelspec": {
   "display_name": "Python 3",
   "language": "python",
   "name": "python3"
  },
  "language_info": {
   "codemirror_mode": {
    "name": "ipython",
    "version": 3
   },
   "file_extension": ".py",
   "mimetype": "text/x-python",
   "name": "python",
   "nbconvert_exporter": "python",
   "pygments_lexer": "ipython3",
   "version": "3.11.4"
  }
 },
 "nbformat": 4,
 "nbformat_minor": 2
}
