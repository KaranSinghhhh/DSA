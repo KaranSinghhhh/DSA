{
 "cells": [
  {
   "cell_type": "code",
   "execution_count": 6,
   "metadata": {},
   "outputs": [
    {
     "name": "stdout",
     "output_type": "stream",
     "text": [
      "120\n",
      "120\n"
     ]
    }
   ],
   "source": [
    "# Example:\n",
    "# The factorial of the number 5 is: 120\n",
    "# How? 5 * 4 * 3 * 2 * 1 = 120\n",
    "# Factorial formula for n = 5 is: \n",
    "# n! = (n-0) * (n-1) * (n-2) * (n-3) * (n-4)\n",
    "# 120 = (5-0) * (5-1) * (5-2) * (5-3) * (5-4) \n",
    "\n",
    "# Writing a iterative factorial Prgram *Using a For Loop*:\n",
    "def iterative_factorial(n):\n",
    "    factorial = 1\n",
    "    for i in range(2, n + 1): # If n = 5, n + 1 = 6 but it will stop at 5 in the range\n",
    "        factorial = factorial*i # 2 * 3 * 4 * 5 = 120\n",
    "    return factorial\n",
    "print(iterative_factorial(5))\n",
    "\n",
    "#Writing a recursion factorial program:\n",
    "def recursive_factorial(n):\n",
    "    if n == 1:\n",
    "        return n\n",
    "    else: \n",
    "        temp = recursive_factorial(n-1)\n",
    "        temp = temp * n\n",
    "    return temp\n",
    "print(recursive_factorial(5))\n",
    "\n",
    "# The iterative factorial method is faster than the recursion factorial method"
   ]
  }
 ],
 "metadata": {
  "kernelspec": {
   "display_name": "Python 3",
   "language": "python",
   "name": "python3"
  },
  "language_info": {
   "codemirror_mode": {
    "name": "ipython",
    "version": 3
   },
   "file_extension": ".py",
   "mimetype": "text/x-python",
   "name": "python",
   "nbconvert_exporter": "python",
   "pygments_lexer": "ipython3",
   "version": "3.11.4"
  }
 },
 "nbformat": 4,
 "nbformat_minor": 2
}
