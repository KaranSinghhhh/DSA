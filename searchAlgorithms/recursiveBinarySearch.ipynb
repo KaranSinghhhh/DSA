{
 "cells": [
  {
   "cell_type": "code",
   "execution_count": 10,
   "metadata": {},
   "outputs": [
    {
     "name": "stdout",
     "output_type": "stream",
     "text": [
      "Target Found:  True\n"
     ]
    },
    {
     "data": {
      "text/plain": [
       "'\\nIterations\\n1. len(list) does not equal 0 so we go to the else clause. \\n   midpoint = len(list)//2 = 9//2 = 4(index). \\n   If the element at the midpoint is equal to the target, we return True, it is not in this case since element\\n   at midpoint is 5 which is less than the target 8. \\n   So we go the else clase within the else clause.\\n   If the element at the midpoint is < than target, since element at midpoint is 5 which is less than target 8, we now call the recursive\\n   binary search function again through return. \\n   We get a new list to work with, the list would be midpoint + 1 until the end of list. midpoint + 1 = 4 + 1 = 5(index).\\n   So we base the new list off the original list, the new list index 0 would start from the original list index 5 until end of original list\\n   The new list is list = [6, 7, 8, 9]\\n\\n2. With the new list, the len(list) does not equal 0 so we go to the else clause.\\n   midpoint = len(list)//2 = 4//2 = 2(index).\\n   If the element at the midpoint is equal to the target, we return True, it is True in this case\\n   because element at midpoint is 8 which is equal to the target 8, so True is returned.\\n'"
      ]
     },
     "execution_count": 10,
     "metadata": {},
     "output_type": "execute_result"
    }
   ],
   "source": [
    "#Recursive Binary Search\n",
    "\n",
    "'''\n",
    "Instead of regular Binary Search which returns the index value of the target if it exists, \n",
    "recursive Binary search will return True or False if the target exists\n",
    "'''\n",
    "\n",
    "def recursiveBinarySearch(list, target):\n",
    "    if len(list) == 0: #Base Case\n",
    "        return False\n",
    "    else:\n",
    "        midpoint = len(list)//2 #Floor division to round down to nearest whole number to get index of midpoint\n",
    "        \n",
    "        if list[midpoint] == target:\n",
    "            return True\n",
    "        else:\n",
    "            if list[midpoint] < target:\n",
    "                return recursiveBinarySearch(list[midpoint+1:], target)\n",
    "            else:\n",
    "                return recursiveBinarySearch(list[:midpoint], target)\n",
    "            \n",
    "def verifyRecursiveBinarySearch(result):\n",
    "    print(\"Target Found: \", result)\n",
    "\n",
    "list = [1,2,3,4,5,6,7,8,9]\n",
    "target = 8\n",
    "\n",
    "result = recursiveBinarySearch(list, target)\n",
    "verifyRecursiveBinarySearch(result)\n",
    "\n",
    "'''\n",
    "Iterations\n",
    "1. len(list) does not equal 0 so we go to the else clause. \n",
    "   midpoint = len(list)//2 = 9//2 = 4(index). \n",
    "   If the element at the midpoint is equal to the target, we return True, it is not in this case since element\n",
    "   at midpoint is 5 which is less than the target 8. \n",
    "   So we go the else clase within the else clause.\n",
    "   If the element at the midpoint is < than target, since element at midpoint is 5 which is less than target 8, we now call the recursive\n",
    "   binary search function again through return. \n",
    "   We get a new list to work with, the list would be midpoint + 1 until the end of list. midpoint + 1 = 4 + 1 = 5(index).\n",
    "   So we base the new list off the original list, the new list index 0 would start from the original list index 5 until end of original list\n",
    "   The new list is list = [6, 7, 8, 9]\n",
    "\n",
    "2. With the new list, the len(list) does not equal 0 so we go to the else clause.\n",
    "   midpoint = len(list)//2 = 4//2 = 2(index).\n",
    "   If the element at the midpoint is equal to the target, we return True, it is True in this case\n",
    "   because element at midpoint is 8 which is equal to the target 8, so True is returned.\n",
    "'''\n"
   ]
  }
 ],
 "metadata": {
  "kernelspec": {
   "display_name": "Python 3",
   "language": "python",
   "name": "python3"
  },
  "language_info": {
   "codemirror_mode": {
    "name": "ipython",
    "version": 3
   },
   "file_extension": ".py",
   "mimetype": "text/x-python",
   "name": "python",
   "nbconvert_exporter": "python",
   "pygments_lexer": "ipython3",
   "version": "3.11.4"
  }
 },
 "nbformat": 4,
 "nbformat_minor": 2
}
